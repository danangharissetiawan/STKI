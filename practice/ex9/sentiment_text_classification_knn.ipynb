{
 "cells": [
  {
   "cell_type": "code",
   "execution_count": 1,
   "metadata": {},
   "outputs": [],
   "source": [
    "import pandas as pd\n",
    "import numpy as np\n",
    "import matplotlib.pyplot as plt\n",
    "\n",
    "import pickle\n",
    "\n",
    "%matplotlib inline"
   ]
  },
  {
   "cell_type": "markdown",
   "metadata": {},
   "source": [
    "### Data Acquisition"
   ]
  },
  {
   "cell_type": "code",
   "execution_count": 2,
   "metadata": {},
   "outputs": [
    {
     "data": {
      "text/html": [
       "<div>\n",
       "<style scoped>\n",
       "    .dataframe tbody tr th:only-of-type {\n",
       "        vertical-align: middle;\n",
       "    }\n",
       "\n",
       "    .dataframe tbody tr th {\n",
       "        vertical-align: top;\n",
       "    }\n",
       "\n",
       "    .dataframe thead th {\n",
       "        text-align: right;\n",
       "    }\n",
       "</style>\n",
       "<table border=\"1\" class=\"dataframe\">\n",
       "  <thead>\n",
       "    <tr style=\"text-align: right;\">\n",
       "      <th></th>\n",
       "      <th>Id</th>\n",
       "      <th>Sentiment</th>\n",
       "      <th>Acara TV</th>\n",
       "      <th>Jumlah Retweet</th>\n",
       "      <th>Text Tweet</th>\n",
       "    </tr>\n",
       "  </thead>\n",
       "  <tbody>\n",
       "    <tr>\n",
       "      <th>0</th>\n",
       "      <td>1</td>\n",
       "      <td>positive</td>\n",
       "      <td>HitamPutihTransTV</td>\n",
       "      <td>12</td>\n",
       "      <td>Undang @N_ShaniJKT48 ke hitamputih, pemenang S...</td>\n",
       "    </tr>\n",
       "    <tr>\n",
       "      <th>1</th>\n",
       "      <td>2</td>\n",
       "      <td>positive</td>\n",
       "      <td>HitamPutihTransTV</td>\n",
       "      <td>6</td>\n",
       "      <td>Selamat berbuka puasa Semoga amal ibadah hari ...</td>\n",
       "    </tr>\n",
       "    <tr>\n",
       "      <th>2</th>\n",
       "      <td>3</td>\n",
       "      <td>positive</td>\n",
       "      <td>HitamPutihTransTV</td>\n",
       "      <td>9</td>\n",
       "      <td>Ada nih di trans7 hitam putih, dia dpt penghar...</td>\n",
       "    </tr>\n",
       "    <tr>\n",
       "      <th>3</th>\n",
       "      <td>4</td>\n",
       "      <td>positive</td>\n",
       "      <td>HitamPutihTransTV</td>\n",
       "      <td>2</td>\n",
       "      <td>selamat ya mas @adietaufan masuk hitamputih</td>\n",
       "    </tr>\n",
       "    <tr>\n",
       "      <th>4</th>\n",
       "      <td>5</td>\n",
       "      <td>positive</td>\n",
       "      <td>HitamPutihTransTV</td>\n",
       "      <td>1</td>\n",
       "      <td>Asiknya nonton Hitam Putih Trans7</td>\n",
       "    </tr>\n",
       "  </tbody>\n",
       "</table>\n",
       "</div>"
      ],
      "text/plain": [
       "   Id Sentiment           Acara TV  Jumlah Retweet  \\\n",
       "0   1  positive  HitamPutihTransTV              12   \n",
       "1   2  positive  HitamPutihTransTV               6   \n",
       "2   3  positive  HitamPutihTransTV               9   \n",
       "3   4  positive  HitamPutihTransTV               2   \n",
       "4   5  positive  HitamPutihTransTV               1   \n",
       "\n",
       "                                          Text Tweet  \n",
       "0  Undang @N_ShaniJKT48 ke hitamputih, pemenang S...  \n",
       "1  Selamat berbuka puasa Semoga amal ibadah hari ...  \n",
       "2  Ada nih di trans7 hitam putih, dia dpt penghar...  \n",
       "3        selamat ya mas @adietaufan masuk hitamputih  \n",
       "4                  Asiknya nonton Hitam Putih Trans7  "
      ]
     },
     "execution_count": 2,
     "metadata": {},
     "output_type": "execute_result"
    }
   ],
   "source": [
    "df = pd.read_csv('https://raw.githubusercontent.com/rizalespe/Dataset-Sentimen-Analisis-Bahasa-Indonesia/master/dataset_tweet_sentimen_tayangan_tv.csv')\n",
    "df.head()"
   ]
  },
  {
   "cell_type": "code",
   "execution_count": 3,
   "metadata": {},
   "outputs": [
    {
     "data": {
      "text/html": [
       "<div>\n",
       "<style scoped>\n",
       "    .dataframe tbody tr th:only-of-type {\n",
       "        vertical-align: middle;\n",
       "    }\n",
       "\n",
       "    .dataframe tbody tr th {\n",
       "        vertical-align: top;\n",
       "    }\n",
       "\n",
       "    .dataframe thead th {\n",
       "        text-align: right;\n",
       "    }\n",
       "</style>\n",
       "<table border=\"1\" class=\"dataframe\">\n",
       "  <thead>\n",
       "    <tr style=\"text-align: right;\">\n",
       "      <th></th>\n",
       "      <th>Id</th>\n",
       "      <th>Sentiment</th>\n",
       "      <th>Acara TV</th>\n",
       "      <th>Jumlah Retweet</th>\n",
       "      <th>Text Tweet</th>\n",
       "    </tr>\n",
       "  </thead>\n",
       "  <tbody>\n",
       "    <tr>\n",
       "      <th>395</th>\n",
       "      <td>396</td>\n",
       "      <td>negative</td>\n",
       "      <td>MataNajwaMetroTV</td>\n",
       "      <td>0</td>\n",
       "      <td>ini apa banget deh gw paling kesel klo orang2 ...</td>\n",
       "    </tr>\n",
       "    <tr>\n",
       "      <th>396</th>\n",
       "      <td>397</td>\n",
       "      <td>negative</td>\n",
       "      <td>MataNajwaMetroTV</td>\n",
       "      <td>0</td>\n",
       "      <td>Orang miskin semakin miskin klo sekolah melaku...</td>\n",
       "    </tr>\n",
       "    <tr>\n",
       "      <th>397</th>\n",
       "      <td>398</td>\n",
       "      <td>negative</td>\n",
       "      <td>MataNajwaMetroTV</td>\n",
       "      <td>0</td>\n",
       "      <td>ga boLeh emosi, cepat tua, nonton #matanajwame...</td>\n",
       "    </tr>\n",
       "    <tr>\n",
       "      <th>398</th>\n",
       "      <td>399</td>\n",
       "      <td>negative</td>\n",
       "      <td>MataNajwaMetroTV</td>\n",
       "      <td>0</td>\n",
       "      <td>dr penampilan saja kyk preman taunya bkin kisr...</td>\n",
       "    </tr>\n",
       "    <tr>\n",
       "      <th>399</th>\n",
       "      <td>400</td>\n",
       "      <td>negative</td>\n",
       "      <td>MataNajwaMetroTV</td>\n",
       "      <td>0</td>\n",
       "      <td>Jawab aja ga usah berbelit-belit. Muter2 ga je...</td>\n",
       "    </tr>\n",
       "  </tbody>\n",
       "</table>\n",
       "</div>"
      ],
      "text/plain": [
       "      Id Sentiment          Acara TV  Jumlah Retweet  \\\n",
       "395  396  negative  MataNajwaMetroTV               0   \n",
       "396  397  negative  MataNajwaMetroTV               0   \n",
       "397  398  negative  MataNajwaMetroTV               0   \n",
       "398  399  negative  MataNajwaMetroTV               0   \n",
       "399  400  negative  MataNajwaMetroTV               0   \n",
       "\n",
       "                                            Text Tweet  \n",
       "395  ini apa banget deh gw paling kesel klo orang2 ...  \n",
       "396  Orang miskin semakin miskin klo sekolah melaku...  \n",
       "397  ga boLeh emosi, cepat tua, nonton #matanajwame...  \n",
       "398  dr penampilan saja kyk preman taunya bkin kisr...  \n",
       "399  Jawab aja ga usah berbelit-belit. Muter2 ga je...  "
      ]
     },
     "execution_count": 3,
     "metadata": {},
     "output_type": "execute_result"
    }
   ],
   "source": [
    "df.tail()"
   ]
  },
  {
   "cell_type": "code",
   "execution_count": 4,
   "metadata": {},
   "outputs": [
    {
     "name": "stdout",
     "output_type": "stream",
     "text": [
      "<class 'pandas.core.frame.DataFrame'>\n",
      "RangeIndex: 400 entries, 0 to 399\n",
      "Data columns (total 5 columns):\n",
      " #   Column          Non-Null Count  Dtype \n",
      "---  ------          --------------  ----- \n",
      " 0   Id              400 non-null    int64 \n",
      " 1   Sentiment       400 non-null    object\n",
      " 2   Acara TV        400 non-null    object\n",
      " 3   Jumlah Retweet  400 non-null    int64 \n",
      " 4   Text Tweet      400 non-null    object\n",
      "dtypes: int64(2), object(3)\n",
      "memory usage: 15.8+ KB\n"
     ]
    }
   ],
   "source": [
    "df.info()"
   ]
  },
  {
   "cell_type": "code",
   "execution_count": 5,
   "metadata": {},
   "outputs": [
    {
     "data": {
      "text/plain": [
       "400"
      ]
     },
     "execution_count": 5,
     "metadata": {},
     "output_type": "execute_result"
    }
   ],
   "source": [
    "len(df)"
   ]
  },
  {
   "cell_type": "code",
   "execution_count": 6,
   "metadata": {},
   "outputs": [
    {
     "data": {
      "text/plain": [
       "Sentiment\n",
       "positive    200\n",
       "negative    200\n",
       "Name: count, dtype: int64"
      ]
     },
     "execution_count": 6,
     "metadata": {},
     "output_type": "execute_result"
    }
   ],
   "source": [
    "df['Sentiment'].value_counts()"
   ]
  },
  {
   "cell_type": "code",
   "execution_count": 7,
   "metadata": {},
   "outputs": [
    {
     "name": "stderr",
     "output_type": "stream",
     "text": [
      "/home/codespace/.local/lib/python3.10/site-packages/seaborn/_oldcore.py:1498: FutureWarning: is_categorical_dtype is deprecated and will be removed in a future version. Use isinstance(dtype, CategoricalDtype) instead\n",
      "  if pd.api.types.is_categorical_dtype(vector):\n",
      "/home/codespace/.local/lib/python3.10/site-packages/seaborn/_oldcore.py:1498: FutureWarning: is_categorical_dtype is deprecated and will be removed in a future version. Use isinstance(dtype, CategoricalDtype) instead\n",
      "  if pd.api.types.is_categorical_dtype(vector):\n",
      "/home/codespace/.local/lib/python3.10/site-packages/seaborn/_oldcore.py:1498: FutureWarning: is_categorical_dtype is deprecated and will be removed in a future version. Use isinstance(dtype, CategoricalDtype) instead\n",
      "  if pd.api.types.is_categorical_dtype(vector):\n"
     ]
    },
    {
     "data": {
      "text/plain": [
       "<Axes: xlabel='Sentiment', ylabel='count'>"
      ]
     },
     "execution_count": 7,
     "metadata": {},
     "output_type": "execute_result"
    },
    {
     "data": {
      "image/png": "[encoded data removed]",
      "text/plain": [
       "<Figure size 1000x500 with 1 Axes>"
      ]
     },
     "metadata": {},
     "output_type": "display_data"
    }
   ],
   "source": [
    "import seaborn as sns\n",
    "\n",
    "plt.figure(figsize=(10,5))\n",
    "\n",
    "sns.countplot(x='Sentiment', data=df)"
   ]
  },
  {
   "cell_type": "markdown",
   "metadata": {},
   "source": [
    "### Data Preprocessing"
   ]
  },
  {
   "cell_type": "code",
   "execution_count": 8,
   "metadata": {},
   "outputs": [
    {
     "data": {
      "text/plain": [
       "Index(['Id', 'Sentiment', 'Acara TV', 'Jumlah Retweet', 'Text Tweet'], dtype='object')"
      ]
     },
     "execution_count": 8,
     "metadata": {},
     "output_type": "execute_result"
    }
   ],
   "source": [
    "df.columns"
   ]
  },
  {
   "cell_type": "code",
   "execution_count": 9,
   "metadata": {},
   "outputs": [
    {
     "data": {
      "text/html": [
       "<div>\n",
       "<style scoped>\n",
       "    .dataframe tbody tr th:only-of-type {\n",
       "        vertical-align: middle;\n",
       "    }\n",
       "\n",
       "    .dataframe tbody tr th {\n",
       "        vertical-align: top;\n",
       "    }\n",
       "\n",
       "    .dataframe thead th {\n",
       "        text-align: right;\n",
       "    }\n",
       "</style>\n",
       "<table border=\"1\" class=\"dataframe\">\n",
       "  <thead>\n",
       "    <tr style=\"text-align: right;\">\n",
       "      <th></th>\n",
       "      <th>id</th>\n",
       "      <th>sentiment</th>\n",
       "      <th>acara_tv</th>\n",
       "      <th>jumlah_retweet</th>\n",
       "      <th>text_tweet</th>\n",
       "    </tr>\n",
       "  </thead>\n",
       "  <tbody>\n",
       "    <tr>\n",
       "      <th>0</th>\n",
       "      <td>1</td>\n",
       "      <td>positive</td>\n",
       "      <td>HitamPutihTransTV</td>\n",
       "      <td>12</td>\n",
       "      <td>Undang @N_ShaniJKT48 ke hitamputih, pemenang S...</td>\n",
       "    </tr>\n",
       "    <tr>\n",
       "      <th>1</th>\n",
       "      <td>2</td>\n",
       "      <td>positive</td>\n",
       "      <td>HitamPutihTransTV</td>\n",
       "      <td>6</td>\n",
       "      <td>Selamat berbuka puasa Semoga amal ibadah hari ...</td>\n",
       "    </tr>\n",
       "    <tr>\n",
       "      <th>2</th>\n",
       "      <td>3</td>\n",
       "      <td>positive</td>\n",
       "      <td>HitamPutihTransTV</td>\n",
       "      <td>9</td>\n",
       "      <td>Ada nih di trans7 hitam putih, dia dpt penghar...</td>\n",
       "    </tr>\n",
       "    <tr>\n",
       "      <th>3</th>\n",
       "      <td>4</td>\n",
       "      <td>positive</td>\n",
       "      <td>HitamPutihTransTV</td>\n",
       "      <td>2</td>\n",
       "      <td>selamat ya mas @adietaufan masuk hitamputih</td>\n",
       "    </tr>\n",
       "    <tr>\n",
       "      <th>4</th>\n",
       "      <td>5</td>\n",
       "      <td>positive</td>\n",
       "      <td>HitamPutihTransTV</td>\n",
       "      <td>1</td>\n",
       "      <td>Asiknya nonton Hitam Putih Trans7</td>\n",
       "    </tr>\n",
       "  </tbody>\n",
       "</table>\n",
       "</div>"
      ],
      "text/plain": [
       "   id sentiment           acara_tv  jumlah_retweet  \\\n",
       "0   1  positive  HitamPutihTransTV              12   \n",
       "1   2  positive  HitamPutihTransTV               6   \n",
       "2   3  positive  HitamPutihTransTV               9   \n",
       "3   4  positive  HitamPutihTransTV               2   \n",
       "4   5  positive  HitamPutihTransTV               1   \n",
       "\n",
       "                                          text_tweet  \n",
       "0  Undang @N_ShaniJKT48 ke hitamputih, pemenang S...  \n",
       "1  Selamat berbuka puasa Semoga amal ibadah hari ...  \n",
       "2  Ada nih di trans7 hitam putih, dia dpt penghar...  \n",
       "3        selamat ya mas @adietaufan masuk hitamputih  \n",
       "4                  Asiknya nonton Hitam Putih Trans7  "
      ]
     },
     "execution_count": 9,
     "metadata": {},
     "output_type": "execute_result"
    }
   ],
   "source": [
    "df.rename(columns={\n",
    "    'Id': 'id',\n",
    "    'Sentiment': 'sentiment',\n",
    "    'Acara TV': 'acara_tv',\n",
    "    'Jumlah Retweet': 'jumlah_retweet',\n",
    "    'Text Tweet': 'text_tweet',\n",
    "}, inplace=True)\n",
    "\n",
    "df.head()"
   ]
  },
  {
   "cell_type": "code",
   "execution_count": 10,
   "metadata": {},
   "outputs": [
    {
     "data": {
      "text/plain": [
       "'Undang @N_ShaniJKT48 ke hitamputih, pemenang SSK JKT48 harusnya mJKT48 ini lebih Layak di Undang karena prestasinya Selamat berbuka puasa Semoga amal ibadah hari ni diterima Allah #hitamputih Ada nih di trans7 hitam putih, dia dpt penghargaan juga di norwegia #hitamputih selamat ya mas @adietaufan masuk hitamputih Asiknya nonton Hitam Putih Trans7 @TRANS7 acara paling komplit dan menarik apalagi ada hitam putih hitam putih T7 inspiratif banget Suka banget dengan acara hitam putih Keren lu bro #HitamPutihTrans7 Tadi ada yg liat hitam putih di trans7 ga, Ada sanggu ganteng'"
      ]
     },
     "execution_count": 10,
     "metadata": {},
     "output_type": "execute_result"
    }
   ],
   "source": [
    "raw_sample = ' '.join(df['text_tweet'].iloc[:10])\n",
    "raw_sample"
   ]
  },
  {
   "cell_type": "markdown",
   "metadata": {},
   "source": [
    "##### Case Folding"
   ]
  },
  {
   "cell_type": "code",
   "execution_count": 11,
   "metadata": {},
   "outputs": [
    {
     "name": "stdout",
     "output_type": "stream",
     "text": [
      "Original: Undang @N_ShaniJKT48 ke hitamputih, pemenang SSK JKT48 harusnya mJKT48 ini lebih Layak di Undang karena prestasinya Selamat berbuka puasa Semoga amal ibadah hari ni diterima Allah #hitamputih Ada nih di trans7 hitam putih, dia dpt penghargaan juga di norwegia #hitamputih selamat ya mas @adietaufan masuk hitamputih Asiknya nonton Hitam Putih Trans7 @TRANS7 acara paling komplit dan menarik apalagi ada hitam putih hitam putih T7 inspiratif banget Suka banget dengan acara hitam putih Keren lu bro #HitamPutihTrans7 Tadi ada yg liat hitam putih di trans7 ga, Ada sanggu ganteng\n",
      "\n",
      "Case Folding:  undang  ke hitamputih pemenang ssk jkt harusnya mjkt ini lebih layak di undang karena prestasinya selamat berbuka puasa semoga amal ibadah hari ni diterima allah  ada nih di trans hitam putih dia dpt penghargaan juga di norwegia  selamat ya mas  masuk hitamputih asiknya nonton hitam putih trans  acara paling komplit dan menarik apalagi ada hitam putih hitam putih t inspiratif banget suka banget dengan acara hitam putih keren lu bro  tadi ada yg liat hitam putih di trans ga ada sanggu ganteng\n"
     ]
    }
   ],
   "source": [
    "import re\n",
    "\n",
    "def caseFolding(text):\n",
    "    text = text.lower()\n",
    "    # delete url\n",
    "    text = re.sub(r'https?://\\S+|www\\.\\S+', '', text)\n",
    "    # delete acount tag\n",
    "    text = re.sub(r'@\\S+', '', text)\n",
    "    # delete hashtag\n",
    "    text = re.sub(r'#\\S+', '', text)\n",
    "    # delete number\n",
    "    text = re.sub(r'\\d+', '', text)\n",
    "    # delete punctuation\n",
    "    text = re.sub(r'[^\\w\\s]', '', text)\n",
    "    text = text.strip()\n",
    "    return text\n",
    "\n",
    "ori_sample = str(raw_sample)\n",
    "raw_sample = caseFolding(raw_sample)\n",
    "print(f'Original: {ori_sample}\\n')\n",
    "print('Case Folding: ', raw_sample)"
   ]
  },
  {
   "cell_type": "markdown",
   "metadata": {},
   "source": [
    "##### Word Normalization"
   ]
  },
  {
   "cell_type": "code",
   "execution_count": 12,
   "metadata": {},
   "outputs": [
    {
     "data": {
      "text/plain": [
       "Index(['_id', 'singkat', 'hasil'], dtype='object')"
      ]
     },
     "execution_count": 12,
     "metadata": {},
     "output_type": "execute_result"
    }
   ],
   "source": [
    "key_norm = pd.read_csv('https://raw.githubusercontent.com/ksnugroho/klasifikasi-spam-sms/master/data/key_norm.csv')\n",
    "\n",
    "key_norm.columns"
   ]
  },
  {
   "cell_type": "code",
   "execution_count": 13,
   "metadata": {},
   "outputs": [
    {
     "name": "stdout",
     "output_type": "stream",
     "text": [
      "Original: Undang @N_ShaniJKT48 ke hitamputih, pemenang SSK JKT48 harusnya mJKT48 ini lebih Layak di Undang karena prestasinya Selamat berbuka puasa Semoga amal ibadah hari ni diterima Allah #hitamputih Ada nih di trans7 hitam putih, dia dpt penghargaan juga di norwegia #hitamputih selamat ya mas @adietaufan masuk hitamputih Asiknya nonton Hitam Putih Trans7 @TRANS7 acara paling komplit dan menarik apalagi ada hitam putih hitam putih T7 inspiratif banget Suka banget dengan acara hitam putih Keren lu bro #HitamPutihTrans7 Tadi ada yg liat hitam putih di trans7 ga, Ada sanggu ganteng\n",
      "\n",
      "After Normalization: undang ke hitamputih pemenang ssk Jakarta harusnya mjkt ini lebih layak di undang karena prestasinya selamat berbuka puasa semoga amal ibadah hari ni diterima allah ada nih di trans hitam putih dia dapat penghargaan juga di norwegia selamat ya mas masuk hitamputih asiknya nonton hitam putih trans acara paling komplit dan menarik apalagi ada hitam putih hitam putih t inspiratif banget suka banget dengan acara hitam putih keren kamu bro tadi ada yang lihat hitam putih di trans tidak ada sanggu ganteng\n"
     ]
    }
   ],
   "source": [
    "def normalize(text):\n",
    "    text = ' '.join([key_norm[key_norm['singkat'] == word]['hasil'].values[0] if (key_norm['singkat'] == word).any() else word for word in text.split()])\n",
    "    return text\n",
    "\n",
    "raw_sample = normalize(raw_sample)\n",
    "print(f'Original: {ori_sample}\\n')\n",
    "print(f'After Normalization: {normalize(raw_sample)}')"
   ]
  },
  {
   "cell_type": "code",
   "execution_count": 14,
   "metadata": {},
   "outputs": [
    {
     "name": "stdout",
     "output_type": "stream",
     "text": [
      "758\n"
     ]
    }
   ],
   "source": [
    "from nltk.tokenize import word_tokenize, sent_tokenize\n",
    "from nltk.corpus import stopwords\n",
    "\n",
    "stopwords = stopwords.words('indonesian')\n",
    "print(len(stopwords))\n",
    "\n",
    "# stopwords more optional\n",
    "more_stopword = []\n",
    "\n",
    "stopwords.extend(more_stopword)\n"
   ]
  },
  {
   "cell_type": "code",
   "execution_count": 15,
   "metadata": {},
   "outputs": [
    {
     "name": "stdout",
     "output_type": "stream",
     "text": [
      "Original: Undang @N_ShaniJKT48 ke hitamputih, pemenang SSK JKT48 harusnya mJKT48 ini lebih Layak di Undang karena prestasinya Selamat berbuka puasa Semoga amal ibadah hari ni diterima Allah #hitamputih Ada nih di trans7 hitam putih, dia dpt penghargaan juga di norwegia #hitamputih selamat ya mas @adietaufan masuk hitamputih Asiknya nonton Hitam Putih Trans7 @TRANS7 acara paling komplit dan menarik apalagi ada hitam putih hitam putih T7 inspiratif banget Suka banget dengan acara hitam putih Keren lu bro #HitamPutihTrans7 Tadi ada yg liat hitam putih di trans7 ga, Ada sanggu ganteng\n",
      "\n",
      "After Remove Stopwords: undang hitamputih pemenang ssk Jakarta mjkt layak undang prestasinya selamat berbuka puasa semoga amal ibadah ni diterima allah nih trans hitam putih penghargaan norwegia selamat ya mas masuk hitamputih asiknya nonton hitam putih trans acara komplit menarik hitam putih hitam putih t inspiratif banget suka banget acara hitam putih keren bro lihat hitam putih trans sanggu ganteng\n"
     ]
    }
   ],
   "source": [
    "def remove_stopwords(text):\n",
    "    text = ' '.join([word for word in text.split() if word not in stopwords])\n",
    "    return text\n",
    "\n",
    "raw_sample = remove_stopwords(raw_sample)\n",
    "print(f'Original: {ori_sample}\\n')\n",
    "print(f'After Remove Stopwords: {raw_sample}')"
   ]
  },
  {
   "cell_type": "markdown",
   "metadata": {},
   "source": [
    "### Stemming"
   ]
  },
  {
   "cell_type": "code",
   "execution_count": 16,
   "metadata": {},
   "outputs": [
    {
     "name": "stdout",
     "output_type": "stream",
     "text": [
      "Original: Undang @N_ShaniJKT48 ke hitamputih, pemenang SSK JKT48 harusnya mJKT48 ini lebih Layak di Undang karena prestasinya Selamat berbuka puasa Semoga amal ibadah hari ni diterima Allah #hitamputih Ada nih di trans7 hitam putih, dia dpt penghargaan juga di norwegia #hitamputih selamat ya mas @adietaufan masuk hitamputih Asiknya nonton Hitam Putih Trans7 @TRANS7 acara paling komplit dan menarik apalagi ada hitam putih hitam putih T7 inspiratif banget Suka banget dengan acara hitam putih Keren lu bro #HitamPutihTrans7 Tadi ada yg liat hitam putih di trans7 ga, Ada sanggu ganteng\n",
      "\n",
      "After Stemming: undang hitamputih menang ssk jakarta mjkt layak undang prestasi selamat buka puasa moga amal ibadah ni terima allah nih trans hitam putih harga norwegia selamat ya mas masuk hitamputih asiknya nonton hitam putih trans acara komplit tarik hitam putih hitam putih t inspiratif banget suka banget acara hitam putih keren bro lihat hitam putih trans sanggu ganteng\n"
     ]
    }
   ],
   "source": [
    "from Sastrawi.Stemmer.StemmerFactory import StemmerFactory\n",
    "\n",
    "factory = StemmerFactory()\n",
    "stemmer = factory.create_stemmer()\n",
    "\n",
    "def stemming(text):\n",
    "    text = stemmer.stem(text)\n",
    "    return text\n",
    "\n",
    "raw_sample = stemming(raw_sample)\n",
    "\n",
    "print(f'Original: {ori_sample}\\n')\n",
    "print(f'After Stemming: {raw_sample}')"
   ]
  },
  {
   "cell_type": "markdown",
   "metadata": {},
   "source": [
    "### Removing no vowels"
   ]
  },
  {
   "cell_type": "code",
   "execution_count": 17,
   "metadata": {},
   "outputs": [
    {
     "name": "stdout",
     "output_type": "stream",
     "text": [
      "Original: Undang @N_ShaniJKT48 ke hitamputih, pemenang SSK JKT48 harusnya mJKT48 ini lebih Layak di Undang karena prestasinya Selamat berbuka puasa Semoga amal ibadah hari ni diterima Allah #hitamputih Ada nih di trans7 hitam putih, dia dpt penghargaan juga di norwegia #hitamputih selamat ya mas @adietaufan masuk hitamputih Asiknya nonton Hitam Putih Trans7 @TRANS7 acara paling komplit dan menarik apalagi ada hitam putih hitam putih T7 inspiratif banget Suka banget dengan acara hitam putih Keren lu bro #HitamPutihTrans7 Tadi ada yg liat hitam putih di trans7 ga, Ada sanggu ganteng\n",
      "\n",
      "After Delete No Vowel: undang hitamputih menang ssk jakarta mjkt layak undang prestasi selamat buka puasa moga amal ibadah ni terima allah nih trans hitam putih harga norwegia selamat ya mas masuk hitamputih asiknya nonton hitam putih trans acara komplit tarik hitam putih hitam putih t inspiratif banget suka banget acara hitam putih keren bro lihat hitam putih trans sanggu ganteng\n"
     ]
    }
   ],
   "source": [
    "def delete_no_vowel(text):\n",
    "    text = ' '.join([word for word in text.split() if word not in ['a', 'i', 'u', 'e', 'o']])\n",
    "    return text\n",
    "\n",
    "raw_sample = delete_no_vowel(raw_sample)\n",
    "\n",
    "print(f'Original: {ori_sample}\\n')\n",
    "print(f'After Delete No Vowel: {raw_sample}')"
   ]
  },
  {
   "cell_type": "markdown",
   "metadata": {},
   "source": [
    "### Pipeline"
   ]
  },
  {
   "cell_type": "code",
   "execution_count": 18,
   "metadata": {},
   "outputs": [],
   "source": [
    "def preprocessing(text):\n",
    "    text = caseFolding(text)\n",
    "    text = normalize(text)\n",
    "    text = remove_stopwords(text)\n",
    "    text = stemming(text)\n",
    "    # text = delete_no_vowel(text)\n",
    "    return text"
   ]
  },
  {
   "cell_type": "code",
   "execution_count": 19,
   "metadata": {},
   "outputs": [
    {
     "name": "stdout",
     "output_type": "stream",
     "text": [
      "CPU times: user 46.6 s, sys: 72.9 ms, total: 46.7 s\n",
      "Wall time: 49.3 s\n"
     ]
    }
   ],
   "source": [
    "%%time \n",
    "df['clean_text'] = df['text_tweet'].apply(preprocessing)"
   ]
  },
  {
   "cell_type": "code",
   "execution_count": 20,
   "metadata": {},
   "outputs": [
    {
     "data": {
      "text/html": [
       "<div>\n",
       "<style scoped>\n",
       "    .dataframe tbody tr th:only-of-type {\n",
       "        vertical-align: middle;\n",
       "    }\n",
       "\n",
       "    .dataframe tbody tr th {\n",
       "        vertical-align: top;\n",
       "    }\n",
       "\n",
       "    .dataframe thead th {\n",
       "        text-align: right;\n",
       "    }\n",
       "</style>\n",
       "<table border=\"1\" class=\"dataframe\">\n",
       "  <thead>\n",
       "    <tr style=\"text-align: right;\">\n",
       "      <th></th>\n",
       "      <th>id</th>\n",
       "      <th>sentiment</th>\n",
       "      <th>acara_tv</th>\n",
       "      <th>jumlah_retweet</th>\n",
       "      <th>text_tweet</th>\n",
       "      <th>clean_text</th>\n",
       "    </tr>\n",
       "  </thead>\n",
       "  <tbody>\n",
       "    <tr>\n",
       "      <th>0</th>\n",
       "      <td>1</td>\n",
       "      <td>positive</td>\n",
       "      <td>HitamPutihTransTV</td>\n",
       "      <td>12</td>\n",
       "      <td>Undang @N_ShaniJKT48 ke hitamputih, pemenang S...</td>\n",
       "      <td>undang hitamputih menang ssk jakarta mjkt laya...</td>\n",
       "    </tr>\n",
       "    <tr>\n",
       "      <th>1</th>\n",
       "      <td>2</td>\n",
       "      <td>positive</td>\n",
       "      <td>HitamPutihTransTV</td>\n",
       "      <td>6</td>\n",
       "      <td>Selamat berbuka puasa Semoga amal ibadah hari ...</td>\n",
       "      <td>selamat buka puasa moga amal ibadah ni terima ...</td>\n",
       "    </tr>\n",
       "    <tr>\n",
       "      <th>2</th>\n",
       "      <td>3</td>\n",
       "      <td>positive</td>\n",
       "      <td>HitamPutihTransTV</td>\n",
       "      <td>9</td>\n",
       "      <td>Ada nih di trans7 hitam putih, dia dpt penghar...</td>\n",
       "      <td>nih trans hitam putih harga norwegia</td>\n",
       "    </tr>\n",
       "    <tr>\n",
       "      <th>3</th>\n",
       "      <td>4</td>\n",
       "      <td>positive</td>\n",
       "      <td>HitamPutihTransTV</td>\n",
       "      <td>2</td>\n",
       "      <td>selamat ya mas @adietaufan masuk hitamputih</td>\n",
       "      <td>selamat ya mas masuk hitamputih</td>\n",
       "    </tr>\n",
       "    <tr>\n",
       "      <th>4</th>\n",
       "      <td>5</td>\n",
       "      <td>positive</td>\n",
       "      <td>HitamPutihTransTV</td>\n",
       "      <td>1</td>\n",
       "      <td>Asiknya nonton Hitam Putih Trans7</td>\n",
       "      <td>asiknya nonton hitam putih trans</td>\n",
       "    </tr>\n",
       "    <tr>\n",
       "      <th>...</th>\n",
       "      <td>...</td>\n",
       "      <td>...</td>\n",
       "      <td>...</td>\n",
       "      <td>...</td>\n",
       "      <td>...</td>\n",
       "      <td>...</td>\n",
       "    </tr>\n",
       "    <tr>\n",
       "      <th>395</th>\n",
       "      <td>396</td>\n",
       "      <td>negative</td>\n",
       "      <td>MataNajwaMetroTV</td>\n",
       "      <td>0</td>\n",
       "      <td>ini apa banget deh gw paling kesel klo orang2 ...</td>\n",
       "      <td>banget deh kesel orang debat pakai emosi</td>\n",
       "    </tr>\n",
       "    <tr>\n",
       "      <th>396</th>\n",
       "      <td>397</td>\n",
       "      <td>negative</td>\n",
       "      <td>MataNajwaMetroTV</td>\n",
       "      <td>0</td>\n",
       "      <td>Orang miskin semakin miskin klo sekolah melaku...</td>\n",
       "      <td>orang miskin miskin sekolah pungut liar</td>\n",
       "    </tr>\n",
       "    <tr>\n",
       "      <th>397</th>\n",
       "      <td>398</td>\n",
       "      <td>negative</td>\n",
       "      <td>MataNajwaMetroTV</td>\n",
       "      <td>0</td>\n",
       "      <td>ga boLeh emosi, cepat tua, nonton #matanajwame...</td>\n",
       "      <td>emosi cepat tua nonton lihat emosi bicara</td>\n",
       "    </tr>\n",
       "    <tr>\n",
       "      <th>398</th>\n",
       "      <td>399</td>\n",
       "      <td>negative</td>\n",
       "      <td>MataNajwaMetroTV</td>\n",
       "      <td>0</td>\n",
       "      <td>dr penampilan saja kyk preman taunya bkin kisr...</td>\n",
       "      <td>tampil preman tau bkin kisruh usak</td>\n",
       "    </tr>\n",
       "    <tr>\n",
       "      <th>399</th>\n",
       "      <td>400</td>\n",
       "      <td>negative</td>\n",
       "      <td>MataNajwaMetroTV</td>\n",
       "      <td>0</td>\n",
       "      <td>Jawab aja ga usah berbelit-belit. Muter2 ga je...</td>\n",
       "      <td>berbelitbelit putar buang mutu</td>\n",
       "    </tr>\n",
       "  </tbody>\n",
       "</table>\n",
       "<p>400 rows × 6 columns</p>\n",
       "</div>"
      ],
      "text/plain": [
       "      id sentiment           acara_tv  jumlah_retweet  \\\n",
       "0      1  positive  HitamPutihTransTV              12   \n",
       "1      2  positive  HitamPutihTransTV               6   \n",
       "2      3  positive  HitamPutihTransTV               9   \n",
       "3      4  positive  HitamPutihTransTV               2   \n",
       "4      5  positive  HitamPutihTransTV               1   \n",
       "..   ...       ...                ...             ...   \n",
       "395  396  negative   MataNajwaMetroTV               0   \n",
       "396  397  negative   MataNajwaMetroTV               0   \n",
       "397  398  negative   MataNajwaMetroTV               0   \n",
       "398  399  negative   MataNajwaMetroTV               0   \n",
       "399  400  negative   MataNajwaMetroTV               0   \n",
       "\n",
       "                                            text_tweet  \\\n",
       "0    Undang @N_ShaniJKT48 ke hitamputih, pemenang S...   \n",
       "1    Selamat berbuka puasa Semoga amal ibadah hari ...   \n",
       "2    Ada nih di trans7 hitam putih, dia dpt penghar...   \n",
       "3          selamat ya mas @adietaufan masuk hitamputih   \n",
       "4                    Asiknya nonton Hitam Putih Trans7   \n",
       "..                                                 ...   \n",
       "395  ini apa banget deh gw paling kesel klo orang2 ...   \n",
       "396  Orang miskin semakin miskin klo sekolah melaku...   \n",
       "397  ga boLeh emosi, cepat tua, nonton #matanajwame...   \n",
       "398  dr penampilan saja kyk preman taunya bkin kisr...   \n",
       "399  Jawab aja ga usah berbelit-belit. Muter2 ga je...   \n",
       "\n",
       "                                            clean_text  \n",
       "0    undang hitamputih menang ssk jakarta mjkt laya...  \n",
       "1    selamat buka puasa moga amal ibadah ni terima ...  \n",
       "2                 nih trans hitam putih harga norwegia  \n",
       "3                      selamat ya mas masuk hitamputih  \n",
       "4                     asiknya nonton hitam putih trans  \n",
       "..                                                 ...  \n",
       "395           banget deh kesel orang debat pakai emosi  \n",
       "396            orang miskin miskin sekolah pungut liar  \n",
       "397          emosi cepat tua nonton lihat emosi bicara  \n",
       "398                 tampil preman tau bkin kisruh usak  \n",
       "399                     berbelitbelit putar buang mutu  \n",
       "\n",
       "[400 rows x 6 columns]"
      ]
     },
     "execution_count": 20,
     "metadata": {},
     "output_type": "execute_result"
    }
   ],
   "source": [
    "df"
   ]
  },
  {
   "cell_type": "code",
   "execution_count": 21,
   "metadata": {},
   "outputs": [],
   "source": [
    "df.to_csv('clean_data_tweet.csv', index=False)"
   ]
  },
  {
   "cell_type": "markdown",
   "metadata": {},
   "source": [
    "### Feature Engineering"
   ]
  },
  {
   "cell_type": "code",
   "execution_count": 22,
   "metadata": {},
   "outputs": [
    {
     "data": {
      "text/html": [
       "<div>\n",
       "<style scoped>\n",
       "    .dataframe tbody tr th:only-of-type {\n",
       "        vertical-align: middle;\n",
       "    }\n",
       "\n",
       "    .dataframe tbody tr th {\n",
       "        vertical-align: top;\n",
       "    }\n",
       "\n",
       "    .dataframe thead th {\n",
       "        text-align: right;\n",
       "    }\n",
       "</style>\n",
       "<table border=\"1\" class=\"dataframe\">\n",
       "  <thead>\n",
       "    <tr style=\"text-align: right;\">\n",
       "      <th></th>\n",
       "      <th>id</th>\n",
       "      <th>sentiment</th>\n",
       "      <th>acara_tv</th>\n",
       "      <th>jumlah_retweet</th>\n",
       "      <th>text_tweet</th>\n",
       "      <th>clean_text</th>\n",
       "    </tr>\n",
       "  </thead>\n",
       "  <tbody>\n",
       "    <tr>\n",
       "      <th>0</th>\n",
       "      <td>1</td>\n",
       "      <td>positive</td>\n",
       "      <td>HitamPutihTransTV</td>\n",
       "      <td>12</td>\n",
       "      <td>Undang @N_ShaniJKT48 ke hitamputih, pemenang S...</td>\n",
       "      <td>undang hitamputih menang ssk jakarta mjkt laya...</td>\n",
       "    </tr>\n",
       "    <tr>\n",
       "      <th>1</th>\n",
       "      <td>2</td>\n",
       "      <td>positive</td>\n",
       "      <td>HitamPutihTransTV</td>\n",
       "      <td>6</td>\n",
       "      <td>Selamat berbuka puasa Semoga amal ibadah hari ...</td>\n",
       "      <td>selamat buka puasa moga amal ibadah ni terima ...</td>\n",
       "    </tr>\n",
       "    <tr>\n",
       "      <th>2</th>\n",
       "      <td>3</td>\n",
       "      <td>positive</td>\n",
       "      <td>HitamPutihTransTV</td>\n",
       "      <td>9</td>\n",
       "      <td>Ada nih di trans7 hitam putih, dia dpt penghar...</td>\n",
       "      <td>nih trans hitam putih harga norwegia</td>\n",
       "    </tr>\n",
       "    <tr>\n",
       "      <th>3</th>\n",
       "      <td>4</td>\n",
       "      <td>positive</td>\n",
       "      <td>HitamPutihTransTV</td>\n",
       "      <td>2</td>\n",
       "      <td>selamat ya mas @adietaufan masuk hitamputih</td>\n",
       "      <td>selamat ya mas masuk hitamputih</td>\n",
       "    </tr>\n",
       "    <tr>\n",
       "      <th>4</th>\n",
       "      <td>5</td>\n",
       "      <td>positive</td>\n",
       "      <td>HitamPutihTransTV</td>\n",
       "      <td>1</td>\n",
       "      <td>Asiknya nonton Hitam Putih Trans7</td>\n",
       "      <td>asiknya nonton hitam putih trans</td>\n",
       "    </tr>\n",
       "  </tbody>\n",
       "</table>\n",
       "</div>"
      ],
      "text/plain": [
       "   id sentiment           acara_tv  jumlah_retweet  \\\n",
       "0   1  positive  HitamPutihTransTV              12   \n",
       "1   2  positive  HitamPutihTransTV               6   \n",
       "2   3  positive  HitamPutihTransTV               9   \n",
       "3   4  positive  HitamPutihTransTV               2   \n",
       "4   5  positive  HitamPutihTransTV               1   \n",
       "\n",
       "                                          text_tweet  \\\n",
       "0  Undang @N_ShaniJKT48 ke hitamputih, pemenang S...   \n",
       "1  Selamat berbuka puasa Semoga amal ibadah hari ...   \n",
       "2  Ada nih di trans7 hitam putih, dia dpt penghar...   \n",
       "3        selamat ya mas @adietaufan masuk hitamputih   \n",
       "4                  Asiknya nonton Hitam Putih Trans7   \n",
       "\n",
       "                                          clean_text  \n",
       "0  undang hitamputih menang ssk jakarta mjkt laya...  \n",
       "1  selamat buka puasa moga amal ibadah ni terima ...  \n",
       "2               nih trans hitam putih harga norwegia  \n",
       "3                    selamat ya mas masuk hitamputih  \n",
       "4                   asiknya nonton hitam putih trans  "
      ]
     },
     "execution_count": 22,
     "metadata": {},
     "output_type": "execute_result"
    }
   ],
   "source": [
    "df = pd.read_csv('clean_data_tweet.csv')\n",
    "df.head()"
   ]
  },
  {
   "cell_type": "code",
   "execution_count": 23,
   "metadata": {},
   "outputs": [],
   "source": [
    "X = df['clean_text']\n",
    "y = df['sentiment']"
   ]
  },
  {
   "cell_type": "markdown",
   "metadata": {},
   "source": [
    "##### Feature Extraction using TF-IDF"
   ]
  },
  {
   "cell_type": "code",
   "execution_count": 24,
   "metadata": {},
   "outputs": [
    {
     "data": {
      "text/html": [
       "<style>#sk-container-id-1 {color: black;}#sk-container-id-1 pre{padding: 0;}#sk-container-id-1 div.sk-toggleable {background-color: white;}#sk-container-id-1 label.sk-toggleable__label {cursor: pointer;display: block;width: 100%;margin-bottom: 0;padding: 0.3em;box-sizing: border-box;text-align: center;}#sk-container-id-1 label.sk-toggleable__label-arrow:before {content: \"▸\";float: left;margin-right: 0.25em;color: #696969;}#sk-container-id-1 label.sk-toggleable__label-arrow:hover:before {color: black;}#sk-container-id-1 div.sk-estimator:hover label.sk-toggleable__label-arrow:before {color: black;}#sk-container-id-1 div.sk-toggleable__content {max-height: 0;max-width: 0;overflow: hidden;text-align: left;background-color: #f0f8ff;}#sk-container-id-1 div.sk-toggleable__content pre {margin: 0.2em;color: black;border-radius: 0.25em;background-color: #f0f8ff;}#sk-container-id-1 input.sk-toggleable__control:checked~div.sk-toggleable__content {max-height: 200px;max-width: 100%;overflow: auto;}#sk-container-id-1 input.sk-toggleable__control:checked~label.sk-toggleable__label-arrow:before {content: \"▾\";}#sk-container-id-1 div.sk-estimator input.sk-toggleable__control:checked~label.sk-toggleable__label {background-color: #d4ebff;}#sk-container-id-1 div.sk-label input.sk-toggleable__control:checked~label.sk-toggleable__label {background-color: #d4ebff;}#sk-container-id-1 input.sk-hidden--visually {border: 0;clip: rect(1px 1px 1px 1px);clip: rect(1px, 1px, 1px, 1px);height: 1px;margin: -1px;overflow: hidden;padding: 0;position: absolute;width: 1px;}#sk-container-id-1 div.sk-estimator {font-family: monospace;background-color: #f0f8ff;border: 1px dotted black;border-radius: 0.25em;box-sizing: border-box;margin-bottom: 0.5em;}#sk-container-id-1 div.sk-estimator:hover {background-color: #d4ebff;}#sk-container-id-1 div.sk-parallel-item::after {content: \"\";width: 100%;border-bottom: 1px solid gray;flex-grow: 1;}#sk-container-id-1 div.sk-label:hover label.sk-toggleable__label {background-color: #d4ebff;}#sk-container-id-1 div.sk-serial::before {content: \"\";position: absolute;border-left: 1px solid gray;box-sizing: border-box;top: 0;bottom: 0;left: 50%;z-index: 0;}#sk-container-id-1 div.sk-serial {display: flex;flex-direction: column;align-items: center;background-color: white;padding-right: 0.2em;padding-left: 0.2em;position: relative;}#sk-container-id-1 div.sk-item {position: relative;z-index: 1;}#sk-container-id-1 div.sk-parallel {display: flex;align-items: stretch;justify-content: center;background-color: white;position: relative;}#sk-container-id-1 div.sk-item::before, #sk-container-id-1 div.sk-parallel-item::before {content: \"\";position: absolute;border-left: 1px solid gray;box-sizing: border-box;top: 0;bottom: 0;left: 50%;z-index: -1;}#sk-container-id-1 div.sk-parallel-item {display: flex;flex-direction: column;z-index: 1;position: relative;background-color: white;}#sk-container-id-1 div.sk-parallel-item:first-child::after {align-self: flex-end;width: 50%;}#sk-container-id-1 div.sk-parallel-item:last-child::after {align-self: flex-start;width: 50%;}#sk-container-id-1 div.sk-parallel-item:only-child::after {width: 0;}#sk-container-id-1 div.sk-dashed-wrapped {border: 1px dashed gray;margin: 0 0.4em 0.5em 0.4em;box-sizing: border-box;padding-bottom: 0.4em;background-color: white;}#sk-container-id-1 div.sk-label label {font-family: monospace;font-weight: bold;display: inline-block;line-height: 1.2em;}#sk-container-id-1 div.sk-label-container {text-align: center;}#sk-container-id-1 div.sk-container {/* jupyter's `normalize.less` sets `[hidden] { display: none; }` but bootstrap.min.css set `[hidden] { display: none !important; }` so we also need the `!important` here to be able to override the default hidden behavior on the sphinx rendered scikit-learn.org. See: https://github.com/scikit-learn/scikit-learn/issues/21755 */display: inline-block !important;position: relative;}#sk-container-id-1 div.sk-text-repr-fallback {display: none;}</style><div id=\"sk-container-id-1\" class=\"sk-top-container\"><div class=\"sk-text-repr-fallback\"><pre>TfidfVectorizer()</pre><b>In a Jupyter environment, please rerun this cell to show the HTML representation or trust the notebook. <br />On GitHub, the HTML representation is unable to render, please try loading this page with nbviewer.org.</b></div><div class=\"sk-container\" hidden><div class=\"sk-item\"><div class=\"sk-estimator sk-toggleable\"><input class=\"sk-toggleable__control sk-hidden--visually\" id=\"sk-estimator-id-1\" type=\"checkbox\" checked><label for=\"sk-estimator-id-1\" class=\"sk-toggleable__label sk-toggleable__label-arrow\">TfidfVectorizer</label><div class=\"sk-toggleable__content\"><pre>TfidfVectorizer()</pre></div></div></div></div></div>"
      ],
      "text/plain": [
       "TfidfVectorizer()"
      ]
     },
     "execution_count": 24,
     "metadata": {},
     "output_type": "execute_result"
    }
   ],
   "source": [
    "from sklearn.feature_extraction.text import TfidfVectorizer\n",
    "\n",
    "tf_idf = TfidfVectorizer()\n",
    "tf_idf.fit(X)"
   ]
  },
  {
   "cell_type": "code",
   "execution_count": 25,
   "metadata": {},
   "outputs": [
    {
     "name": "stdout",
     "output_type": "stream",
     "text": [
      "length feature: 1079\n",
      "feature: ['aa' 'abang' 'abas' 'abi' 'abraham' 'academi' 'acara' 'acung' 'adem'\n",
      " 'adik']\n"
     ]
    }
   ],
   "source": [
    "features = tf_idf.get_feature_names_out()\n",
    "print(f'length feature: {len(features)}')\n",
    "print(f'feature: {features[:10]}')"
   ]
  },
  {
   "cell_type": "markdown",
   "metadata": {},
   "source": [
    "##### Transform to a vector"
   ]
  },
  {
   "cell_type": "code",
   "execution_count": 26,
   "metadata": {},
   "outputs": [
    {
     "name": "stdout",
     "output_type": "stream",
     "text": [
      "shape: (400, 1079)\n"
     ]
    }
   ],
   "source": [
    "X_tf_idf = tf_idf.transform(X).toarray()\n",
    "print(f'shape: {X_tf_idf.shape}')"
   ]
  },
  {
   "cell_type": "code",
   "execution_count": 27,
   "metadata": {},
   "outputs": [
    {
     "data": {
      "text/html": [
       "<div>\n",
       "<style scoped>\n",
       "    .dataframe tbody tr th:only-of-type {\n",
       "        vertical-align: middle;\n",
       "    }\n",
       "\n",
       "    .dataframe tbody tr th {\n",
       "        vertical-align: top;\n",
       "    }\n",
       "\n",
       "    .dataframe thead th {\n",
       "        text-align: right;\n",
       "    }\n",
       "</style>\n",
       "<table border=\"1\" class=\"dataframe\">\n",
       "  <thead>\n",
       "    <tr style=\"text-align: right;\">\n",
       "      <th></th>\n",
       "      <th>aa</th>\n",
       "      <th>abang</th>\n",
       "      <th>abas</th>\n",
       "      <th>abi</th>\n",
       "      <th>abraham</th>\n",
       "      <th>academi</th>\n",
       "      <th>acara</th>\n",
       "      <th>acung</th>\n",
       "      <th>adem</th>\n",
       "      <th>adik</th>\n",
       "      <th>...</th>\n",
       "      <th>wna</th>\n",
       "      <th>woidjojayanto</th>\n",
       "      <th>ya</th>\n",
       "      <th>yaampun</th>\n",
       "      <th>yadia</th>\n",
       "      <th>yag</th>\n",
       "      <th>younglex</th>\n",
       "      <th>yuk</th>\n",
       "      <th>zaitun</th>\n",
       "      <th>zhonk</th>\n",
       "    </tr>\n",
       "  </thead>\n",
       "  <tbody>\n",
       "    <tr>\n",
       "      <th>0</th>\n",
       "      <td>0.0</td>\n",
       "      <td>0.0</td>\n",
       "      <td>0.0</td>\n",
       "      <td>0.0</td>\n",
       "      <td>0.0</td>\n",
       "      <td>0.0</td>\n",
       "      <td>0.0</td>\n",
       "      <td>0.0</td>\n",
       "      <td>0.0</td>\n",
       "      <td>0.0</td>\n",
       "      <td>...</td>\n",
       "      <td>0.0</td>\n",
       "      <td>0.0</td>\n",
       "      <td>0.000000</td>\n",
       "      <td>0.0</td>\n",
       "      <td>0.0</td>\n",
       "      <td>0.0</td>\n",
       "      <td>0.0</td>\n",
       "      <td>0.0</td>\n",
       "      <td>0.0</td>\n",
       "      <td>0.0</td>\n",
       "    </tr>\n",
       "    <tr>\n",
       "      <th>1</th>\n",
       "      <td>0.0</td>\n",
       "      <td>0.0</td>\n",
       "      <td>0.0</td>\n",
       "      <td>0.0</td>\n",
       "      <td>0.0</td>\n",
       "      <td>0.0</td>\n",
       "      <td>0.0</td>\n",
       "      <td>0.0</td>\n",
       "      <td>0.0</td>\n",
       "      <td>0.0</td>\n",
       "      <td>...</td>\n",
       "      <td>0.0</td>\n",
       "      <td>0.0</td>\n",
       "      <td>0.000000</td>\n",
       "      <td>0.0</td>\n",
       "      <td>0.0</td>\n",
       "      <td>0.0</td>\n",
       "      <td>0.0</td>\n",
       "      <td>0.0</td>\n",
       "      <td>0.0</td>\n",
       "      <td>0.0</td>\n",
       "    </tr>\n",
       "    <tr>\n",
       "      <th>2</th>\n",
       "      <td>0.0</td>\n",
       "      <td>0.0</td>\n",
       "      <td>0.0</td>\n",
       "      <td>0.0</td>\n",
       "      <td>0.0</td>\n",
       "      <td>0.0</td>\n",
       "      <td>0.0</td>\n",
       "      <td>0.0</td>\n",
       "      <td>0.0</td>\n",
       "      <td>0.0</td>\n",
       "      <td>...</td>\n",
       "      <td>0.0</td>\n",
       "      <td>0.0</td>\n",
       "      <td>0.000000</td>\n",
       "      <td>0.0</td>\n",
       "      <td>0.0</td>\n",
       "      <td>0.0</td>\n",
       "      <td>0.0</td>\n",
       "      <td>0.0</td>\n",
       "      <td>0.0</td>\n",
       "      <td>0.0</td>\n",
       "    </tr>\n",
       "    <tr>\n",
       "      <th>3</th>\n",
       "      <td>0.0</td>\n",
       "      <td>0.0</td>\n",
       "      <td>0.0</td>\n",
       "      <td>0.0</td>\n",
       "      <td>0.0</td>\n",
       "      <td>0.0</td>\n",
       "      <td>0.0</td>\n",
       "      <td>0.0</td>\n",
       "      <td>0.0</td>\n",
       "      <td>0.0</td>\n",
       "      <td>...</td>\n",
       "      <td>0.0</td>\n",
       "      <td>0.0</td>\n",
       "      <td>0.379622</td>\n",
       "      <td>0.0</td>\n",
       "      <td>0.0</td>\n",
       "      <td>0.0</td>\n",
       "      <td>0.0</td>\n",
       "      <td>0.0</td>\n",
       "      <td>0.0</td>\n",
       "      <td>0.0</td>\n",
       "    </tr>\n",
       "    <tr>\n",
       "      <th>4</th>\n",
       "      <td>0.0</td>\n",
       "      <td>0.0</td>\n",
       "      <td>0.0</td>\n",
       "      <td>0.0</td>\n",
       "      <td>0.0</td>\n",
       "      <td>0.0</td>\n",
       "      <td>0.0</td>\n",
       "      <td>0.0</td>\n",
       "      <td>0.0</td>\n",
       "      <td>0.0</td>\n",
       "      <td>...</td>\n",
       "      <td>0.0</td>\n",
       "      <td>0.0</td>\n",
       "      <td>0.000000</td>\n",
       "      <td>0.0</td>\n",
       "      <td>0.0</td>\n",
       "      <td>0.0</td>\n",
       "      <td>0.0</td>\n",
       "      <td>0.0</td>\n",
       "      <td>0.0</td>\n",
       "      <td>0.0</td>\n",
       "    </tr>\n",
       "  </tbody>\n",
       "</table>\n",
       "<p>5 rows × 1079 columns</p>\n",
       "</div>"
      ],
      "text/plain": [
       "    aa  abang  abas  abi  abraham  academi  acara  acung  adem  adik  ...  \\\n",
       "0  0.0    0.0   0.0  0.0      0.0      0.0    0.0    0.0   0.0   0.0  ...   \n",
       "1  0.0    0.0   0.0  0.0      0.0      0.0    0.0    0.0   0.0   0.0  ...   \n",
       "2  0.0    0.0   0.0  0.0      0.0      0.0    0.0    0.0   0.0   0.0  ...   \n",
       "3  0.0    0.0   0.0  0.0      0.0      0.0    0.0    0.0   0.0   0.0  ...   \n",
       "4  0.0    0.0   0.0  0.0      0.0      0.0    0.0    0.0   0.0   0.0  ...   \n",
       "\n",
       "   wna  woidjojayanto        ya  yaampun  yadia  yag  younglex  yuk  zaitun  \\\n",
       "0  0.0            0.0  0.000000      0.0    0.0  0.0       0.0  0.0     0.0   \n",
       "1  0.0            0.0  0.000000      0.0    0.0  0.0       0.0  0.0     0.0   \n",
       "2  0.0            0.0  0.000000      0.0    0.0  0.0       0.0  0.0     0.0   \n",
       "3  0.0            0.0  0.379622      0.0    0.0  0.0       0.0  0.0     0.0   \n",
       "4  0.0            0.0  0.000000      0.0    0.0  0.0       0.0  0.0     0.0   \n",
       "\n",
       "   zhonk  \n",
       "0    0.0  \n",
       "1    0.0  \n",
       "2    0.0  \n",
       "3    0.0  \n",
       "4    0.0  \n",
       "\n",
       "[5 rows x 1079 columns]"
      ]
     },
     "execution_count": 27,
     "metadata": {},
     "output_type": "execute_result"
    }
   ],
   "source": [
    "# save tf_idf  to pickle\n",
    "data_tf_idf = pd.DataFrame(X_tf_idf, columns=features)\n",
    "\n",
    "data_tf_idf.head()"
   ]
  },
  {
   "cell_type": "code",
   "execution_count": 28,
   "metadata": {},
   "outputs": [],
   "source": [
    "pickle.dump(X_tf_idf, open('tf_idf.pickle', 'wb'))"
   ]
  },
  {
   "cell_type": "markdown",
   "metadata": {},
   "source": [
    "##### Feature Selection"
   ]
  },
  {
   "cell_type": "code",
   "execution_count": 29,
   "metadata": {},
   "outputs": [],
   "source": [
    "data_tf_idf = pickle.load(open('tf_idf.pickle', 'rb'))"
   ]
  },
  {
   "cell_type": "code",
   "execution_count": 30,
   "metadata": {},
   "outputs": [],
   "source": [
    "X = np.array(data_tf_idf)\n",
    "y = np.array(y)"
   ]
  },
  {
   "cell_type": "code",
   "execution_count": 31,
   "metadata": {},
   "outputs": [
    {
     "name": "stdout",
     "output_type": "stream",
     "text": [
      "Original X shape: (400, 1079)\n",
      "Reduced X shape: (400, 1000)\n"
     ]
    },
    {
     "data": {
      "text/plain": [
       "array([[0., 0., 0., ..., 0., 0., 0.],\n",
       "       [0., 0., 0., ..., 0., 0., 0.],\n",
       "       [0., 0., 0., ..., 0., 0., 0.],\n",
       "       ...,\n",
       "       [0., 0., 0., ..., 0., 0., 0.],\n",
       "       [0., 0., 0., ..., 0., 0., 0.],\n",
       "       [0., 0., 0., ..., 0., 0., 0.]])"
      ]
     },
     "execution_count": 31,
     "metadata": {},
     "output_type": "execute_result"
    }
   ],
   "source": [
    "from sklearn.feature_selection import SelectKBest, chi2\n",
    "\n",
    "chi2_selector = SelectKBest(chi2, k=1000)\n",
    "X_best_features = chi2_selector.fit_transform(X, y)\n",
    "\n",
    "print(f\"Original X shape: {X.shape}\")\n",
    "print(f\"Reduced X shape: {X_best_features.shape}\")\n",
    "X_best_features"
   ]
  },
  {
   "cell_type": "code",
   "execution_count": 32,
   "metadata": {},
   "outputs": [
    {
     "data": {
      "text/html": [
       "<div>\n",
       "<style scoped>\n",
       "    .dataframe tbody tr th:only-of-type {\n",
       "        vertical-align: middle;\n",
       "    }\n",
       "\n",
       "    .dataframe tbody tr th {\n",
       "        vertical-align: top;\n",
       "    }\n",
       "\n",
       "    .dataframe thead th {\n",
       "        text-align: right;\n",
       "    }\n",
       "</style>\n",
       "<table border=\"1\" class=\"dataframe\">\n",
       "  <thead>\n",
       "    <tr style=\"text-align: right;\">\n",
       "      <th></th>\n",
       "      <th>feature</th>\n",
       "      <th>score</th>\n",
       "    </tr>\n",
       "  </thead>\n",
       "  <tbody>\n",
       "    <tr>\n",
       "      <th>477</th>\n",
       "      <td>keren</td>\n",
       "      <td>9.261036</td>\n",
       "    </tr>\n",
       "    <tr>\n",
       "      <th>385</th>\n",
       "      <td>inspirasi</td>\n",
       "      <td>7.257482</td>\n",
       "    </tr>\n",
       "    <tr>\n",
       "      <th>790</th>\n",
       "      <td>putih</td>\n",
       "      <td>5.001288</td>\n",
       "    </tr>\n",
       "    <tr>\n",
       "      <th>844</th>\n",
       "      <td>salut</td>\n",
       "      <td>4.708812</td>\n",
       "    </tr>\n",
       "    <tr>\n",
       "      <th>897</th>\n",
       "      <td>seru</td>\n",
       "      <td>4.138241</td>\n",
       "    </tr>\n",
       "    <tr>\n",
       "      <th>358</th>\n",
       "      <td>hitam</td>\n",
       "      <td>4.086399</td>\n",
       "    </tr>\n",
       "    <tr>\n",
       "      <th>160</th>\n",
       "      <td>bodoh</td>\n",
       "      <td>3.607858</td>\n",
       "    </tr>\n",
       "    <tr>\n",
       "      <th>1010</th>\n",
       "      <td>trans</td>\n",
       "      <td>3.532650</td>\n",
       "    </tr>\n",
       "    <tr>\n",
       "      <th>558</th>\n",
       "      <td>malam</td>\n",
       "      <td>3.428211</td>\n",
       "    </tr>\n",
       "    <tr>\n",
       "      <th>628</th>\n",
       "      <td>moga</td>\n",
       "      <td>3.277166</td>\n",
       "    </tr>\n",
       "  </tbody>\n",
       "</table>\n",
       "</div>"
      ],
      "text/plain": [
       "        feature     score\n",
       "477       keren  9.261036\n",
       "385   inspirasi  7.257482\n",
       "790       putih  5.001288\n",
       "844       salut  4.708812\n",
       "897        seru  4.138241\n",
       "358       hitam  4.086399\n",
       "160       bodoh  3.607858\n",
       "1010      trans  3.532650\n",
       "558       malam  3.428211\n",
       "628        moga  3.277166"
      ]
     },
     "execution_count": 32,
     "metadata": {},
     "output_type": "execute_result"
    }
   ],
   "source": [
    "data_chi2 = pd.DataFrame({'feature': features, 'score': chi2_selector.scores_})\n",
    "\n",
    "data_chi2.sort_values(by='score', ascending=False).head(10)\n"
   ]
  },
  {
   "cell_type": "code",
   "execution_count": 33,
   "metadata": {},
   "outputs": [
    {
     "name": "stdout",
     "output_type": "stream",
     "text": [
      "length feature: 1000\n",
      "feature: ['aa', 'abang', 'abas', 'abi', 'abraham', 'academi', 'acara', 'acung', 'adem', 'adik']\n"
     ]
    }
   ],
   "source": [
    "# delete feature with get support\n",
    "mask = chi2_selector.get_support()\n",
    "\n",
    "new_features = []\n",
    "\n",
    "for bool, feature in zip(mask, features):\n",
    "    if bool:\n",
    "        new_features.append(feature)\n",
    "\n",
    "print(f'length feature: {len(new_features)}')\n",
    "print(f'feature: {new_features[:10]}')"
   ]
  },
  {
   "cell_type": "code",
   "execution_count": 34,
   "metadata": {},
   "outputs": [],
   "source": [
    "# save new feature to pickle\n",
    "best_features = {}\n",
    "\n",
    "for (k,v) in tf_idf.vocabulary_.items():    # Iterasi untuk mengulangi vocab yang dihasilkan TF_IDF\n",
    "  if k in new_features:                 # Cek apakah fitur termasuk k fitur yang diseleksi\n",
    "    best_features[k] = v \n"
   ]
  },
  {
   "cell_type": "code",
   "execution_count": 35,
   "metadata": {},
   "outputs": [],
   "source": [
    "pickle.dump(best_features, open('best_feature.pickle', 'wb'))"
   ]
  },
  {
   "cell_type": "markdown",
   "metadata": {},
   "source": [
    "### Model Building"
   ]
  },
  {
   "cell_type": "code",
   "execution_count": 36,
   "metadata": {},
   "outputs": [],
   "source": [
    "# load data final\n",
    "df_ff = pickle.load(open('best_feature.pickle', 'rb'))\n"
   ]
  },
  {
   "cell_type": "code",
   "execution_count": 37,
   "metadata": {},
   "outputs": [],
   "source": [
    "from sklearn.model_selection import train_test_split\n",
    "\n",
    "X_train, X_test, y_train, y_test = train_test_split(X_best_features, y, test_size=0.2, random_state=42)"
   ]
  },
  {
   "cell_type": "code",
   "execution_count": 38,
   "metadata": {},
   "outputs": [
    {
     "data": {
      "text/plain": [
       "((320, 1000), (80, 1000), (320,), (80,))"
      ]
     },
     "execution_count": 38,
     "metadata": {},
     "output_type": "execute_result"
    }
   ],
   "source": [
    "X_train.shape, X_test.shape, y_train.shape, y_test.shape"
   ]
  },
  {
   "cell_type": "code",
   "execution_count": 39,
   "metadata": {},
   "outputs": [
    {
     "data": {
      "text/html": [
       "<style>#sk-container-id-2 {color: black;}#sk-container-id-2 pre{padding: 0;}#sk-container-id-2 div.sk-toggleable {background-color: white;}#sk-container-id-2 label.sk-toggleable__label {cursor: pointer;display: block;width: 100%;margin-bottom: 0;padding: 0.3em;box-sizing: border-box;text-align: center;}#sk-container-id-2 label.sk-toggleable__label-arrow:before {content: \"▸\";float: left;margin-right: 0.25em;color: #696969;}#sk-container-id-2 label.sk-toggleable__label-arrow:hover:before {color: black;}#sk-container-id-2 div.sk-estimator:hover label.sk-toggleable__label-arrow:before {color: black;}#sk-container-id-2 div.sk-toggleable__content {max-height: 0;max-width: 0;overflow: hidden;text-align: left;background-color: #f0f8ff;}#sk-container-id-2 div.sk-toggleable__content pre {margin: 0.2em;color: black;border-radius: 0.25em;background-color: #f0f8ff;}#sk-container-id-2 input.sk-toggleable__control:checked~div.sk-toggleable__content {max-height: 200px;max-width: 100%;overflow: auto;}#sk-container-id-2 input.sk-toggleable__control:checked~label.sk-toggleable__label-arrow:before {content: \"▾\";}#sk-container-id-2 div.sk-estimator input.sk-toggleable__control:checked~label.sk-toggleable__label {background-color: #d4ebff;}#sk-container-id-2 div.sk-label input.sk-toggleable__control:checked~label.sk-toggleable__label {background-color: #d4ebff;}#sk-container-id-2 input.sk-hidden--visually {border: 0;clip: rect(1px 1px 1px 1px);clip: rect(1px, 1px, 1px, 1px);height: 1px;margin: -1px;overflow: hidden;padding: 0;position: absolute;width: 1px;}#sk-container-id-2 div.sk-estimator {font-family: monospace;background-color: #f0f8ff;border: 1px dotted black;border-radius: 0.25em;box-sizing: border-box;margin-bottom: 0.5em;}#sk-container-id-2 div.sk-estimator:hover {background-color: #d4ebff;}#sk-container-id-2 div.sk-parallel-item::after {content: \"\";width: 100%;border-bottom: 1px solid gray;flex-grow: 1;}#sk-container-id-2 div.sk-label:hover label.sk-toggleable__label {background-color: #d4ebff;}#sk-container-id-2 div.sk-serial::before {content: \"\";position: absolute;border-left: 1px solid gray;box-sizing: border-box;top: 0;bottom: 0;left: 50%;z-index: 0;}#sk-container-id-2 div.sk-serial {display: flex;flex-direction: column;align-items: center;background-color: white;padding-right: 0.2em;padding-left: 0.2em;position: relative;}#sk-container-id-2 div.sk-item {position: relative;z-index: 1;}#sk-container-id-2 div.sk-parallel {display: flex;align-items: stretch;justify-content: center;background-color: white;position: relative;}#sk-container-id-2 div.sk-item::before, #sk-container-id-2 div.sk-parallel-item::before {content: \"\";position: absolute;border-left: 1px solid gray;box-sizing: border-box;top: 0;bottom: 0;left: 50%;z-index: -1;}#sk-container-id-2 div.sk-parallel-item {display: flex;flex-direction: column;z-index: 1;position: relative;background-color: white;}#sk-container-id-2 div.sk-parallel-item:first-child::after {align-self: flex-end;width: 50%;}#sk-container-id-2 div.sk-parallel-item:last-child::after {align-self: flex-start;width: 50%;}#sk-container-id-2 div.sk-parallel-item:only-child::after {width: 0;}#sk-container-id-2 div.sk-dashed-wrapped {border: 1px dashed gray;margin: 0 0.4em 0.5em 0.4em;box-sizing: border-box;padding-bottom: 0.4em;background-color: white;}#sk-container-id-2 div.sk-label label {font-family: monospace;font-weight: bold;display: inline-block;line-height: 1.2em;}#sk-container-id-2 div.sk-label-container {text-align: center;}#sk-container-id-2 div.sk-container {/* jupyter's `normalize.less` sets `[hidden] { display: none; }` but bootstrap.min.css set `[hidden] { display: none !important; }` so we also need the `!important` here to be able to override the default hidden behavior on the sphinx rendered scikit-learn.org. See: https://github.com/scikit-learn/scikit-learn/issues/21755 */display: inline-block !important;position: relative;}#sk-container-id-2 div.sk-text-repr-fallback {display: none;}</style><div id=\"sk-container-id-2\" class=\"sk-top-container\"><div class=\"sk-text-repr-fallback\"><pre>KNeighborsClassifier()</pre><b>In a Jupyter environment, please rerun this cell to show the HTML representation or trust the notebook. <br />On GitHub, the HTML representation is unable to render, please try loading this page with nbviewer.org.</b></div><div class=\"sk-container\" hidden><div class=\"sk-item\"><div class=\"sk-estimator sk-toggleable\"><input class=\"sk-toggleable__control sk-hidden--visually\" id=\"sk-estimator-id-2\" type=\"checkbox\" checked><label for=\"sk-estimator-id-2\" class=\"sk-toggleable__label sk-toggleable__label-arrow\">KNeighborsClassifier</label><div class=\"sk-toggleable__content\"><pre>KNeighborsClassifier()</pre></div></div></div></div></div>"
      ],
      "text/plain": [
       "KNeighborsClassifier()"
      ]
     },
     "execution_count": 39,
     "metadata": {},
     "output_type": "execute_result"
    }
   ],
   "source": [
    "# model with knn\n",
    "from sklearn.neighbors import KNeighborsClassifier\n",
    "\n",
    "knn = KNeighborsClassifier(n_neighbors=5)\n",
    "knn.fit(X_train, y_train)\n"
   ]
  },
  {
   "cell_type": "code",
   "execution_count": 40,
   "metadata": {},
   "outputs": [
    {
     "data": {
      "text/plain": [
       "array(['positive', 'positive', 'positive', 'positive', 'positive',\n",
       "       'positive', 'positive', 'positive', 'positive', 'positive',\n",
       "       'positive', 'positive', 'positive', 'positive', 'positive',\n",
       "       'positive', 'positive', 'positive', 'positive', 'negative',\n",
       "       'positive', 'positive', 'positive', 'positive', 'positive',\n",
       "       'positive', 'positive', 'positive', 'positive', 'positive',\n",
       "       'positive', 'positive', 'positive', 'positive', 'positive',\n",
       "       'positive', 'positive', 'positive', 'positive', 'positive',\n",
       "       'negative', 'positive', 'positive', 'positive', 'negative',\n",
       "       'positive', 'positive', 'negative', 'positive', 'positive',\n",
       "       'positive', 'positive', 'positive', 'positive', 'negative',\n",
       "       'positive', 'positive', 'positive', 'positive', 'positive',\n",
       "       'positive', 'negative', 'positive', 'positive', 'positive',\n",
       "       'positive', 'positive', 'positive', 'positive', 'positive',\n",
       "       'positive', 'positive', 'positive', 'positive', 'positive',\n",
       "       'positive', 'positive', 'positive', 'positive', 'positive'],\n",
       "      dtype=object)"
      ]
     },
     "execution_count": 40,
     "metadata": {},
     "output_type": "execute_result"
    }
   ],
   "source": [
    "model_pred = knn.predict(X_test)\n",
    "model_pred"
   ]
  },
  {
   "cell_type": "code",
   "execution_count": 41,
   "metadata": {},
   "outputs": [
    {
     "data": {
      "text/plain": [
       "array([[0.        , 0.        , 0.        , ..., 0.        , 0.        ,\n",
       "        0.        ],\n",
       "       [0.        , 0.        , 0.        , ..., 0.        , 0.        ,\n",
       "        0.32350771],\n",
       "       [0.        , 0.        , 0.        , ..., 0.        , 0.        ,\n",
       "        0.        ],\n",
       "       ...,\n",
       "       [0.        , 0.        , 0.        , ..., 0.        , 0.        ,\n",
       "        0.        ],\n",
       "       [0.        , 0.        , 0.        , ..., 0.        , 0.        ,\n",
       "        0.        ],\n",
       "       [0.        , 0.        , 0.        , ..., 0.        , 0.        ,\n",
       "        0.        ]])"
      ]
     },
     "execution_count": 41,
     "metadata": {},
     "output_type": "execute_result"
    }
   ],
   "source": [
    "X_test"
   ]
  },
  {
   "cell_type": "markdown",
   "metadata": {},
   "source": [
    "### Model Evaluation"
   ]
  },
  {
   "cell_type": "code",
   "execution_count": 42,
   "metadata": {},
   "outputs": [
    {
     "name": "stdout",
     "output_type": "stream",
     "text": [
      "True: 43\n",
      "False: 37\n",
      "Accuracy: 0.5375\n"
     ]
    }
   ],
   "source": [
    "from sklearn.metrics import classification_report, confusion_matrix, accuracy_score\n",
    "\n",
    "print(f\"True: {(model_pred == y_test).sum()}\")\n",
    "print(f\"False: {(model_pred != y_test).sum()}\")\n",
    "print(f\"Accuracy: {accuracy_score(y_test, model_pred)}\")"
   ]
  },
  {
   "cell_type": "code",
   "execution_count": 43,
   "metadata": {},
   "outputs": [
    {
     "data": {
      "text/plain": [
       "<Axes: >"
      ]
     },
     "execution_count": 43,
     "metadata": {},
     "output_type": "execute_result"
    },
    {
     "data": {
      "image/png": "[encoded data removed]",
      "text/plain": [
       "<Figure size 640x480 with 2 Axes>"
      ]
     },
     "metadata": {},
     "output_type": "display_data"
    }
   ],
   "source": [
    "# plot confusion matrix\n",
    "sns.heatmap(confusion_matrix(y_test, model_pred), annot=True, fmt='d', cmap='Blues')"
   ]
  },
  {
   "cell_type": "code",
   "execution_count": 44,
   "metadata": {},
   "outputs": [
    {
     "name": "stdout",
     "output_type": "stream",
     "text": [
      "              precision    recall  f1-score   support\n",
      "\n",
      "    negative       1.00      0.14      0.24        43\n",
      "    positive       0.50      1.00      0.67        37\n",
      "\n",
      "    accuracy                           0.54        80\n",
      "   macro avg       0.75      0.57      0.46        80\n",
      "weighted avg       0.77      0.54      0.44        80\n",
      "\n"
     ]
    }
   ],
   "source": [
    "print(classification_report(y_test, model_pred))"
   ]
  },
  {
   "cell_type": "code",
   "execution_count": 45,
   "metadata": {},
   "outputs": [
    {
     "name": "stdout",
     "output_type": "stream",
     "text": [
      "All Accuracy: [0.5375 0.6    0.675  0.5375 0.725 ]\n",
      "Accuracy: 0.615\n"
     ]
    }
   ],
   "source": [
    "# cross validation\n",
    "from sklearn.model_selection import cross_val_score, ShuffleSplit\n",
    "\n",
    "cv = ShuffleSplit(n_splits=5, test_size=0.2, random_state=42)\n",
    "cv_accuracy = cross_val_score(knn, X_best_features, y, cv=cv, scoring='accuracy')\n",
    "avg_accuracy = cv_accuracy.mean()\n",
    "\n",
    "print(f\"All Accuracy: {cv_accuracy}\")\n",
    "print(f\"Accuracy: {avg_accuracy}\")"
   ]
  },
  {
   "cell_type": "markdown",
   "metadata": {},
   "source": [
    "### Simple Deployment"
   ]
  },
  {
   "cell_type": "code",
   "execution_count": 47,
   "metadata": {},
   "outputs": [
    {
     "name": "stdout",
     "output_type": "stream",
     "text": [
      "Text: hitam putih cocok\n",
      "Prediksi: ['positive']\n"
     ]
    }
   ],
   "source": [
    "input_data = \"hitam putih tidak cocok\"\n",
    "\n",
    "pre_input = preprocessing(input_data)\n",
    "tf_idf_vec = TfidfVectorizer(vocabulary=set(best_features))\n",
    "\n",
    "\n",
    "result = knn.predict(tf_idf_vec.fit_transform([pre_input]))\n",
    "\n",
    "# print(f\"Input: {input_data}\")\n",
    "print(f\"Text: {pre_input}\\nPrediksi: {result}\")"
   ]
  }
 ],
 "metadata": {
  "kernelspec": {
   "display_name": "Python 3.7.13 ('tf')",
   "language": "python",
   "name": "python3"
  },
  "language_info": {
   "codemirror_mode": {
    "name": "ipython",
    "version": 3
   },
   "file_extension": ".py",
   "mimetype": "text/x-python",
   "name": "python",
   "nbconvert_exporter": "python",
   "pygments_lexer": "ipython3",
   "version": "3.10.8"
  },
  "orig_nbformat": 4,
  "vscode": {
   "interpreter": {
    "hash": "9819c38625e3d453af23400f3105fdafaf1e618a5986311776fa7a8a0649173a"
   }
  }
 },
 "nbformat": 4,
 "nbformat_minor": 2
}
