{
 "cells": [
  {
   "cell_type": "markdown",
   "metadata": {},
   "source": [
    "### Read Dataset from json"
   ]
  },
  {
   "cell_type": "code",
   "execution_count": null,
   "metadata": {},
   "outputs": [],
   "source": [
    "# read multiple json files and convert them to csv files\n",
    "\n",
    "import json\n",
    "import pandas as pd\n",
    "import os\n",
    "\n",
    "\n",
    "def read_json(file_path):\n",
    "    for file in os.listdir(file_path):\n",
    "        if file.endswith(\".json\"):\n",
    "            with open(file_path + file, 'r') as f:\n",
    "                data = json.load(f)\n",
    "                yield data\n",
    "    \n",
    "\n",
    "file_path = 'data/json/'\n",
    "\n",
    "print('Reading json files...')\n",
    "data = read_json(file_path)\n",
    "print('Done!')\n",
    "print(data)"
   ]
  }
 ],
 "metadata": {
  "kernelspec": {
   "display_name": "ml",
   "language": "python",
   "name": "python3"
  },
  "language_info": {
   "name": "python"
  },
  "orig_nbformat": 4
 },
 "nbformat": 4,
 "nbformat_minor": 2
}
