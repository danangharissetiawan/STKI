{
 "cells": [
  {
   "cell_type": "code",
   "execution_count": 15,
   "metadata": {},
   "outputs": [],
   "source": [
    "import json\n",
    "import pandas as pd\n",
    "import os\n",
    "import numpy as np"
   ]
  },
  {
   "cell_type": "markdown",
   "metadata": {},
   "source": [
    "### Read Dataset from json"
   ]
  },
  {
   "cell_type": "code",
   "execution_count": 43,
   "metadata": {},
   "outputs": [],
   "source": [
    "def read_json(file_path):\n",
    "    data = []\n",
    "    for file in os.listdir(file_path):\n",
    "        if file.endswith(\".json\"):\n",
    "            with open(os.path.join(file_path, file), 'r') as f:\n",
    "                json_data = json.load(f)\n",
    "                data.append(json_data)\n",
    "    return data\n",
    "\n",
    "file_path = 'data/json/'\n",
    "\n",
    "data = read_json(file_path)\n"
   ]
  },
  {
   "cell_type": "code",
   "execution_count": 75,
   "metadata": {},
   "outputs": [],
   "source": [
    "\n",
    "df = pd.DataFrame(data)\n",
    "df.to_csv('data/data.csv', index=False)"
   ]
  },
  {
   "cell_type": "code",
   "execution_count": 32,
   "metadata": {},
   "outputs": [
    {
     "data": {
      "text/html": [
       "<div>\n",
       "<style scoped>\n",
       "    .dataframe tbody tr th:only-of-type {\n",
       "        vertical-align: middle;\n",
       "    }\n",
       "\n",
       "    .dataframe tbody tr th {\n",
       "        vertical-align: top;\n",
       "    }\n",
       "\n",
       "    .dataframe thead th {\n",
       "        text-align: right;\n",
       "    }\n",
       "</style>\n",
       "<table border=\"1\" class=\"dataframe\">\n",
       "  <thead>\n",
       "    <tr style=\"text-align: right;\">\n",
       "      <th></th>\n",
       "      <th>url</th>\n",
       "      <th>date</th>\n",
       "      <th>title</th>\n",
       "      <th>content</th>\n",
       "    </tr>\n",
       "  </thead>\n",
       "  <tbody>\n",
       "    <tr>\n",
       "      <th>0</th>\n",
       "      <td>https://news.detik.com/berita/d-4047915/soal-t...</td>\n",
       "      <td>2018-05-31 23:13:00</td>\n",
       "      <td>Soal THR untuk Anggota DPR, NasDem: Itu Normal</td>\n",
       "      <td>Jakarta -\\nPimpinan dan anggota DPR tahun ini ...</td>\n",
       "    </tr>\n",
       "    <tr>\n",
       "      <th>1</th>\n",
       "      <td>https://bola.kompas.com/read/2018/05/31/232609...</td>\n",
       "      <td>2018-05-31 23:26:00</td>\n",
       "      <td>Sempat Unggul, Timnas U-23 Indonesia Kalah dar...</td>\n",
       "      <td>KOMPAS.com - Timnas U-23 Indonesia harus menga...</td>\n",
       "    </tr>\n",
       "    <tr>\n",
       "      <th>2</th>\n",
       "      <td>https://nasional.kompas.com/read/2018/05/31/23...</td>\n",
       "      <td>2018-05-31 23:32:00</td>\n",
       "      <td>Saat Oesman Sapta Candai Capres dan Cawapres d...</td>\n",
       "      <td>JAKARTA, KOMPAS.com - Ketua Dewan Pimpinan Dae...</td>\n",
       "    </tr>\n",
       "    <tr>\n",
       "      <th>3</th>\n",
       "      <td>https://international.sindonews.com/read/13106...</td>\n",
       "      <td>2018-05-31 23:47:00</td>\n",
       "      <td>Assad: Israel Panik Kehilangan Teroris Tersaya...</td>\n",
       "      <td>DAMASKUS - Presiden Bashar al-Assad menyebut I...</td>\n",
       "    </tr>\n",
       "    <tr>\n",
       "      <th>4</th>\n",
       "      <td>https://finance.detik.com/detiktv/d-4047895/du...</td>\n",
       "      <td>2018-05-31 23:07:00</td>\n",
       "      <td>Dua Minggu Jelang Lebaran, Pegadaian Dibanjiri...</td>\n",
       "      <td>Dua minggu jelang Lebaran, transaksi di PT Peg...</td>\n",
       "    </tr>\n",
       "  </tbody>\n",
       "</table>\n",
       "</div>"
      ],
      "text/plain": [
       "                                                 url                 date  \\\n",
       "0  https://news.detik.com/berita/d-4047915/soal-t...  2018-05-31 23:13:00   \n",
       "1  https://bola.kompas.com/read/2018/05/31/232609...  2018-05-31 23:26:00   \n",
       "2  https://nasional.kompas.com/read/2018/05/31/23...  2018-05-31 23:32:00   \n",
       "3  https://international.sindonews.com/read/13106...  2018-05-31 23:47:00   \n",
       "4  https://finance.detik.com/detiktv/d-4047895/du...  2018-05-31 23:07:00   \n",
       "\n",
       "                                               title  \\\n",
       "0     Soal THR untuk Anggota DPR, NasDem: Itu Normal   \n",
       "1  Sempat Unggul, Timnas U-23 Indonesia Kalah dar...   \n",
       "2  Saat Oesman Sapta Candai Capres dan Cawapres d...   \n",
       "3  Assad: Israel Panik Kehilangan Teroris Tersaya...   \n",
       "4  Dua Minggu Jelang Lebaran, Pegadaian Dibanjiri...   \n",
       "\n",
       "                                             content  \n",
       "0  Jakarta -\\nPimpinan dan anggota DPR tahun ini ...  \n",
       "1  KOMPAS.com - Timnas U-23 Indonesia harus menga...  \n",
       "2  JAKARTA, KOMPAS.com - Ketua Dewan Pimpinan Dae...  \n",
       "3  DAMASKUS - Presiden Bashar al-Assad menyebut I...  \n",
       "4  Dua minggu jelang Lebaran, transaksi di PT Peg...  "
      ]
     },
     "execution_count": 32,
     "metadata": {},
     "output_type": "execute_result"
    }
   ],
   "source": [
    "df.head()"
   ]
  },
  {
   "cell_type": "code",
   "execution_count": 14,
   "metadata": {},
   "outputs": [
    {
     "name": "stdout",
     "output_type": "stream",
     "text": [
      "<class 'pandas.core.frame.DataFrame'>\n",
      "RangeIndex: 61 entries, 0 to 60\n",
      "Data columns (total 4 columns):\n",
      " #   Column   Non-Null Count  Dtype \n",
      "---  ------   --------------  ----- \n",
      " 0   url      61 non-null     object\n",
      " 1   date     61 non-null     object\n",
      " 2   title    61 non-null     object\n",
      " 3   content  61 non-null     object\n",
      "dtypes: object(4)\n",
      "memory usage: 2.0+ KB\n"
     ]
    }
   ],
   "source": [
    "df.info()"
   ]
  },
  {
   "cell_type": "markdown",
   "metadata": {},
   "source": [
    "### Text Preprocessing"
   ]
  },
  {
   "cell_type": "code",
   "execution_count": 12,
   "metadata": {},
   "outputs": [
    {
     "name": "stderr",
     "output_type": "stream",
     "text": [
      "[nltk_data] Downloading package punkt to /home/codespace/nltk_data...\n",
      "[nltk_data]   Unzipping tokenizers/punkt.zip.\n",
      "[nltk_data] Downloading package stopwords to\n",
      "[nltk_data]     /home/codespace/nltk_data...\n",
      "[nltk_data]   Unzipping corpora/stopwords.zip.\n"
     ]
    },
    {
     "data": {
      "text/plain": [
       "True"
      ]
     },
     "execution_count": 12,
     "metadata": {},
     "output_type": "execute_result"
    }
   ],
   "source": [
    "import nltk\n",
    "nltk.download('punkt')\n",
    "nltk.download('stopwords')"
   ]
  },
  {
   "cell_type": "markdown",
   "metadata": {},
   "source": [
    "### Case folding"
   ]
  },
  {
   "cell_type": "code",
   "execution_count": 76,
   "metadata": {},
   "outputs": [],
   "source": [
    "import re\n",
    "\n",
    "def case_folding(text):\n",
    "    \"\"\"\n",
    "    param text: string\n",
    "    return: string\n",
    "\n",
    "    Lowercase the text, remove url, remove number, remove punctuation, remove whitespace, remove trailing & leading whitespace\n",
    "    \"\"\"\n",
    "    text = text.lower()\n",
    "    text = re.sub(r'https?:\\/\\/.*[\\r\\n]*', '', text) # remove url\n",
    "    text = re.sub(r'[-+]?[0-9]+', '', text) # remove number\n",
    "    text = re.sub(r\"[^\\w]\", \" \", text) # remove punctuation\n",
    "    text = re.sub(r\"\\s+\", \" \", text) # remove whitespace\n",
    "    text = text.strip() # remove trailing & leading whitespace\n",
    "    return text"
   ]
  },
  {
   "cell_type": "code",
   "execution_count": 34,
   "metadata": {},
   "outputs": [
    {
     "name": "stdout",
     "output_type": "stream",
     "text": [
      "raw sample: Jakarta -\n",
      "Menteri Perhubungan Budi Karya Sumadi setuju penumpang yang bercanda membawa bom di pesawat Lion Air JT 687 rute Pontianak-Cengkareng di- blacklist . Hal tersebut agar tidak ada lagi penumpang yang bercanda soal bom di pesawat. \"Saya pikir suatu usulan yang baik ya, karena bom itu bukan candaan, bukan yang lucu. Jadi saya pikir, jika seseorang melakukan hal itu, patut untuk dilakukan blacklist ,\" ujar Budi di Terminal Penumpang Pelabuhan Tanjung Priok, Jakarta Utara, Kamis (31/5/2018). Menurut Budi, kekisruhan di dalam pesawat akibat candaan bom tidak perlu lagi terjadi. Candaan bom bukan candaan yang lucu. \"Karena kita tidak ingin ada suatu kekisruhan dalam pesawat dengan candaan yang nggak lucu, yang sebenarnya nggak penting,\" katanya. Budi mengimbau masyarakat agar tidak meniru candaan tersebut. Penumpang di mana pun harus tetap disiplin. \"Jadi saya pikir kita harus menghindari, harus disiplin supaya candaan nggak lucu tidak disampaikan,\" jelasnya. Sebelumnya, Frantinus Nirigi (26), yang bercanda membawa bom di pesawat Lion Air JT 687 rute Pontianak-Cengkareng, meminta maaf. Dia mengakui telah melontarkan candaan soal bom di dalam pesawat. Dia mengaku telah melihat video viral insiden tersebut dan meminta maaf kepada seluruh penumpang yang jadi korban luka. (nvl/nvl)\n",
      "case folding: jakarta menteri perhubungan budi karya sumadi setuju penumpang yang bercanda membawa bom di pesawat lion air jt rute pontianak cengkareng di blacklist hal tersebut agar tidak ada lagi penumpang yang bercanda soal bom di pesawat saya pikir suatu usulan yang baik ya karena bom itu bukan candaan bukan yang lucu jadi saya pikir jika seseorang melakukan hal itu patut untuk dilakukan blacklist ujar budi di terminal penumpang pelabuhan tanjung priok jakarta utara kamis menurut budi kekisruhan di dalam pesawat akibat candaan bom tidak perlu lagi terjadi candaan bom bukan candaan yang lucu karena kita tidak ingin ada suatu kekisruhan dalam pesawat dengan candaan yang nggak lucu yang sebenarnya nggak penting katanya budi mengimbau masyarakat agar tidak meniru candaan tersebut penumpang di mana pun harus tetap disiplin jadi saya pikir kita harus menghindari harus disiplin supaya candaan nggak lucu tidak disampaikan jelasnya sebelumnya frantinus nirigi yang bercanda membawa bom di pesawat lion air jt rute pontianak cengkareng meminta maaf dia mengakui telah melontarkan candaan soal bom di dalam pesawat dia mengaku telah melihat video viral insiden tersebut dan meminta maaf kepada seluruh penumpang yang jadi korban luka nvl nvl\n"
     ]
    }
   ],
   "source": [
    "raw_sample = df['content'].iloc[5]\n",
    "case_folding = case_folding(raw_sample)\n",
    "\n",
    "print(f'raw sample: {raw_sample}')\n",
    "print(f'case folding: {case_folding}')"
   ]
  },
  {
   "cell_type": "markdown",
   "metadata": {},
   "source": [
    "### Slang World Normalization"
   ]
  },
  {
   "cell_type": "code",
   "execution_count": 35,
   "metadata": {},
   "outputs": [
    {
     "data": {
      "text/plain": [
       "(3720, 3)"
      ]
     },
     "execution_count": 35,
     "metadata": {},
     "output_type": "execute_result"
    }
   ],
   "source": [
    "key_norm = pd.read_csv('data/key_norm.csv')\n",
    "key_norm.shape"
   ]
  },
  {
   "cell_type": "code",
   "execution_count": 36,
   "metadata": {},
   "outputs": [
    {
     "data": {
      "text/html": [
       "<div>\n",
       "<style scoped>\n",
       "    .dataframe tbody tr th:only-of-type {\n",
       "        vertical-align: middle;\n",
       "    }\n",
       "\n",
       "    .dataframe tbody tr th {\n",
       "        vertical-align: top;\n",
       "    }\n",
       "\n",
       "    .dataframe thead th {\n",
       "        text-align: right;\n",
       "    }\n",
       "</style>\n",
       "<table border=\"1\" class=\"dataframe\">\n",
       "  <thead>\n",
       "    <tr style=\"text-align: right;\">\n",
       "      <th></th>\n",
       "      <th>_id</th>\n",
       "      <th>singkat</th>\n",
       "      <th>hasil</th>\n",
       "    </tr>\n",
       "  </thead>\n",
       "  <tbody>\n",
       "    <tr>\n",
       "      <th>0</th>\n",
       "      <td>1</td>\n",
       "      <td>abis</td>\n",
       "      <td>habis</td>\n",
       "    </tr>\n",
       "    <tr>\n",
       "      <th>1</th>\n",
       "      <td>2</td>\n",
       "      <td>accent</td>\n",
       "      <td>tekanan</td>\n",
       "    </tr>\n",
       "    <tr>\n",
       "      <th>2</th>\n",
       "      <td>3</td>\n",
       "      <td>accept</td>\n",
       "      <td>terima</td>\n",
       "    </tr>\n",
       "    <tr>\n",
       "      <th>3</th>\n",
       "      <td>4</td>\n",
       "      <td>accident</td>\n",
       "      <td>kecelakaan</td>\n",
       "    </tr>\n",
       "    <tr>\n",
       "      <th>4</th>\n",
       "      <td>5</td>\n",
       "      <td>achievement</td>\n",
       "      <td>prestasi</td>\n",
       "    </tr>\n",
       "  </tbody>\n",
       "</table>\n",
       "</div>"
      ],
      "text/plain": [
       "   _id      singkat       hasil\n",
       "0    1         abis       habis\n",
       "1    2       accent     tekanan\n",
       "2    3       accept      terima\n",
       "3    4     accident  kecelakaan\n",
       "4    5  achievement    prestasi"
      ]
     },
     "execution_count": 36,
     "metadata": {},
     "output_type": "execute_result"
    }
   ],
   "source": [
    "key_norm.head()"
   ]
  },
  {
   "cell_type": "code",
   "execution_count": 77,
   "metadata": {},
   "outputs": [],
   "source": [
    "def text_normalize(text):\n",
    "    \"\"\"\n",
    "    param text: string\n",
    "    return: string\n",
    "\n",
    "    Normalize the text by replacing the key with the value in the key_norm dataframe\n",
    "    \"\"\"\n",
    "    text = ' '.join([key_norm[key_norm['singkat'] == word]['hasil'].values[0] if (key_norm['singkat'] == word).any() else word for word in text.split()])\n",
    "    return text\n"
   ]
  },
  {
   "cell_type": "code",
   "execution_count": 46,
   "metadata": {},
   "outputs": [
    {
     "name": "stdout",
     "output_type": "stream",
     "text": [
      "raw sample: Jakarta -\n",
      "Menteri Perhubungan Budi Karya Sumadi setuju penumpang yang bercanda membawa bom di pesawat Lion Air JT 687 rute Pontianak-Cengkareng di- blacklist . Hal tersebut agar tidak ada lagi penumpang yang bercanda soal bom di pesawat. \"Saya pikir suatu usulan yang baik ya, karena bom itu bukan candaan, bukan yang lucu. Jadi saya pikir, jika seseorang melakukan hal itu, patut untuk dilakukan blacklist ,\" ujar Budi di Terminal Penumpang Pelabuhan Tanjung Priok, Jakarta Utara, Kamis (31/5/2018). Menurut Budi, kekisruhan di dalam pesawat akibat candaan bom tidak perlu lagi terjadi. Candaan bom bukan candaan yang lucu. \"Karena kita tidak ingin ada suatu kekisruhan dalam pesawat dengan candaan yang nggak lucu, yang sebenarnya nggak penting,\" katanya. Budi mengimbau masyarakat agar tidak meniru candaan tersebut. Penumpang di mana pun harus tetap disiplin. \"Jadi saya pikir kita harus menghindari, harus disiplin supaya candaan nggak lucu tidak disampaikan,\" jelasnya. Sebelumnya, Frantinus Nirigi (26), yang bercanda membawa bom di pesawat Lion Air JT 687 rute Pontianak-Cengkareng, meminta maaf. Dia mengakui telah melontarkan candaan soal bom di dalam pesawat. Dia mengaku telah melihat video viral insiden tersebut dan meminta maaf kepada seluruh penumpang yang jadi korban luka. (nvl/nvl)\n",
      "case folding: jakarta menteri perhubungan budi karya sumadi setuju penumpang yang bercanda membawa bom di pesawat lion air jt rute pontianak cengkareng di blacklist hal tersebut agar tidak ada lagi penumpang yang bercanda soal bom di pesawat saya pikir suatu usulan yang baik ya karena bom itu bukan candaan bukan yang lucu jadi saya pikir jika seseorang melakukan hal itu patut untuk dilakukan blacklist ujar budi di terminal penumpang pelabuhan tanjung priok jakarta utara kamis menurut budi kekisruhan di dalam pesawat akibat candaan bom tidak perlu lagi terjadi candaan bom bukan candaan yang lucu karena kita tidak ingin ada suatu kekisruhan dalam pesawat dengan candaan yang nggak lucu yang sebenarnya nggak penting katanya budi mengimbau masyarakat agar tidak meniru candaan tersebut penumpang di mana pun harus tetap disiplin jadi saya pikir kita harus menghindari harus disiplin supaya candaan nggak lucu tidak disampaikan jelasnya sebelumnya frantinus nirigi yang bercanda membawa bom di pesawat lion air jt rute pontianak cengkareng meminta maaf dia mengakui telah melontarkan candaan soal bom di dalam pesawat dia mengaku telah melihat video viral insiden tersebut dan meminta maaf kepada seluruh penumpang yang jadi korban luka nvl nvl\n",
      "text normalize: jakarta menteri perhubungan budi karya sumadi setuju penumpang yang bercanda membawa bom di pesawat lion air jt rute pontianak cengkareng di blacklist hal tersebut agar tidak ada lagi penumpang yang bercanda soal bom di pesawat saya pikir suatu usulan yang baik ya karena bom itu bukan candaan bukan yang lucu jadi saya pikir jika seseorang melakukan hal itu patut untuk dilakukan blacklist ujar budi di terminal penumpang pelabuhan tanjung priok jakarta utara kamis menurut budi kekisruhan di dalam pesawat akibat candaan bom tidak perlu lagi terjadi candaan bom bukan candaan yang lucu karena kita tidak ingin ada suatu kekisruhan dalam pesawat dengan candaan yang tidak lucu yang sebenarnya tidak penting katanya budi mengimbau masyarakat agar tidak meniru candaan tersebut penumpang di mana pun harus tetap disiplin jadi saya pikir kita harus menghindari harus disiplin supaya candaan tidak lucu tidak disampaikan jelasnya sebelumnya frantinus nirigi yang bercanda membawa bom di pesawat lion air jt rute pontianak cengkareng meminta maaf dia mengakui telah melontarkan candaan soal bom di dalam pesawat dia mengaku telah melihat video viral insiden tersebut dan meminta maaf kepada seluruh penumpang yang jadi korban luka nvl nvl\n"
     ]
    }
   ],
   "source": [
    "raw_sample = df['content'].iloc[5]\n",
    "case_folding = case_folding(raw_sample)\n",
    "text_normalize = text_normalize(case_folding)\n",
    "\n",
    "print(f'raw sample: {raw_sample}')\n",
    "print(f'case folding: {case_folding}')\n",
    "print(f'text normalize: {text_normalize}')"
   ]
  },
  {
   "cell_type": "markdown",
   "metadata": {},
   "source": [
    "### Stopword Removal"
   ]
  },
  {
   "cell_type": "code",
   "execution_count": 56,
   "metadata": {},
   "outputs": [
    {
     "data": {
      "text/plain": [
       "758"
      ]
     },
     "execution_count": 56,
     "metadata": {},
     "output_type": "execute_result"
    }
   ],
   "source": [
    "from nltk.tokenize import word_tokenize\n",
    "from nltk.corpus import stopwords\n",
    "\n",
    "stopwords_ind = stopwords.words('indonesian')\n",
    "\n",
    "len(stopwords_ind)"
   ]
  },
  {
   "cell_type": "code",
   "execution_count": 78,
   "metadata": {},
   "outputs": [],
   "source": [
    "more_stopword = ['nvl']\n",
    "\n",
    "stopwords_ind.extend(more_stopword)\n",
    "\n",
    "def remove_stopwords(text):\n",
    "    \"\"\"\n",
    "    param text: string\n",
    "    return: string\n",
    "\n",
    "    Remove stopwords from the text\n",
    "    \"\"\"\n",
    "    text = ' '.join([word for word in text.split() if word not in stopwords_ind])\n",
    "    return text"
   ]
  },
  {
   "cell_type": "code",
   "execution_count": 63,
   "metadata": {},
   "outputs": [
    {
     "name": "stdout",
     "output_type": "stream",
     "text": [
      "raw sample: Jakarta -\n",
      "Menteri Perhubungan Budi Karya Sumadi setuju penumpang yang bercanda membawa bom di pesawat Lion Air JT 687 rute Pontianak-Cengkareng di- blacklist . Hal tersebut agar tidak ada lagi penumpang yang bercanda soal bom di pesawat. \"Saya pikir suatu usulan yang baik ya, karena bom itu bukan candaan, bukan yang lucu. Jadi saya pikir, jika seseorang melakukan hal itu, patut untuk dilakukan blacklist ,\" ujar Budi di Terminal Penumpang Pelabuhan Tanjung Priok, Jakarta Utara, Kamis (31/5/2018). Menurut Budi, kekisruhan di dalam pesawat akibat candaan bom tidak perlu lagi terjadi. Candaan bom bukan candaan yang lucu. \"Karena kita tidak ingin ada suatu kekisruhan dalam pesawat dengan candaan yang nggak lucu, yang sebenarnya nggak penting,\" katanya. Budi mengimbau masyarakat agar tidak meniru candaan tersebut. Penumpang di mana pun harus tetap disiplin. \"Jadi saya pikir kita harus menghindari, harus disiplin supaya candaan nggak lucu tidak disampaikan,\" jelasnya. Sebelumnya, Frantinus Nirigi (26), yang bercanda membawa bom di pesawat Lion Air JT 687 rute Pontianak-Cengkareng, meminta maaf. Dia mengakui telah melontarkan candaan soal bom di dalam pesawat. Dia mengaku telah melihat video viral insiden tersebut dan meminta maaf kepada seluruh penumpang yang jadi korban luka. (nvl/nvl)\n",
      "case folding: jakarta menteri perhubungan budi karya sumadi setuju penumpang yang bercanda membawa bom di pesawat lion air jt rute pontianak cengkareng di blacklist hal tersebut agar tidak ada lagi penumpang yang bercanda soal bom di pesawat saya pikir suatu usulan yang baik ya karena bom itu bukan candaan bukan yang lucu jadi saya pikir jika seseorang melakukan hal itu patut untuk dilakukan blacklist ujar budi di terminal penumpang pelabuhan tanjung priok jakarta utara kamis menurut budi kekisruhan di dalam pesawat akibat candaan bom tidak perlu lagi terjadi candaan bom bukan candaan yang lucu karena kita tidak ingin ada suatu kekisruhan dalam pesawat dengan candaan yang nggak lucu yang sebenarnya nggak penting katanya budi mengimbau masyarakat agar tidak meniru candaan tersebut penumpang di mana pun harus tetap disiplin jadi saya pikir kita harus menghindari harus disiplin supaya candaan nggak lucu tidak disampaikan jelasnya sebelumnya frantinus nirigi yang bercanda membawa bom di pesawat lion air jt rute pontianak cengkareng meminta maaf dia mengakui telah melontarkan candaan soal bom di dalam pesawat dia mengaku telah melihat video viral insiden tersebut dan meminta maaf kepada seluruh penumpang yang jadi korban luka nvl nvl\n",
      "text normalize: jakarta menteri perhubungan budi karya sumadi setuju penumpang yang bercanda membawa bom di pesawat lion air jt rute pontianak cengkareng di blacklist hal tersebut agar tidak ada lagi penumpang yang bercanda soal bom di pesawat saya pikir suatu usulan yang baik ya karena bom itu bukan candaan bukan yang lucu jadi saya pikir jika seseorang melakukan hal itu patut untuk dilakukan blacklist ujar budi di terminal penumpang pelabuhan tanjung priok jakarta utara kamis menurut budi kekisruhan di dalam pesawat akibat candaan bom tidak perlu lagi terjadi candaan bom bukan candaan yang lucu karena kita tidak ingin ada suatu kekisruhan dalam pesawat dengan candaan yang tidak lucu yang sebenarnya tidak penting katanya budi mengimbau masyarakat agar tidak meniru candaan tersebut penumpang di mana pun harus tetap disiplin jadi saya pikir kita harus menghindari harus disiplin supaya candaan tidak lucu tidak disampaikan jelasnya sebelumnya frantinus nirigi yang bercanda membawa bom di pesawat lion air jt rute pontianak cengkareng meminta maaf dia mengakui telah melontarkan candaan soal bom di dalam pesawat dia mengaku telah melihat video viral insiden tersebut dan meminta maaf kepada seluruh penumpang yang jadi korban luka nvl nvl\n",
      "remove stopwords: jakarta menteri perhubungan budi karya sumadi setuju penumpang bercanda membawa bom pesawat lion air jt rute pontianak cengkareng blacklist penumpang bercanda bom pesawat pikir usulan ya bom candaan lucu pikir patut blacklist budi terminal penumpang pelabuhan tanjung priok jakarta utara kamis budi kekisruhan pesawat akibat candaan bom candaan bom candaan lucu kekisruhan pesawat candaan lucu budi mengimbau masyarakat meniru candaan penumpang disiplin pikir menghindari disiplin candaan lucu frantinus nirigi bercanda membawa bom pesawat lion air jt rute pontianak cengkareng maaf mengakui melontarkan candaan bom pesawat mengaku video viral insiden maaf penumpang korban luka\n"
     ]
    }
   ],
   "source": [
    "raw_sample = df['content'].iloc[5]\n",
    "case_folding = case_folding(raw_sample)\n",
    "text_normalize = text_normalize(case_folding)\n",
    "remove_stopwords = remove_stopwords(text_normalize)\n",
    "\n",
    "print(f'raw sample: {raw_sample}')\n",
    "print(f'case folding: {case_folding}')\n",
    "print(f'text normalize: {text_normalize}')\n",
    "print(f'remove stopwords: {remove_stopwords}')\n"
   ]
  },
  {
   "cell_type": "markdown",
   "metadata": {},
   "source": [
    "### Stemming"
   ]
  },
  {
   "cell_type": "code",
   "execution_count": 79,
   "metadata": {},
   "outputs": [],
   "source": [
    "from Sastrawi.Stemmer.StemmerFactory import StemmerFactory\n",
    "\n",
    "factory = StemmerFactory()\n",
    "stemmer = factory.create_stemmer()\n",
    "\n",
    "def stemming(text):\n",
    "    \"\"\"\n",
    "    param text: string\n",
    "    return: string\n",
    "\n",
    "    Stemming the text\n",
    "    \"\"\"\n",
    "    text = stemmer.stem(text)\n",
    "    return text"
   ]
  },
  {
   "cell_type": "code",
   "execution_count": 74,
   "metadata": {},
   "outputs": [
    {
     "name": "stdout",
     "output_type": "stream",
     "text": [
      "raw sample: Jakarta -\n",
      "Menteri Perhubungan Budi Karya Sumadi setuju penumpang yang bercanda membawa bom di pesawat Lion Air JT 687 rute Pontianak-Cengkareng di- blacklist . Hal tersebut agar tidak ada lagi penumpang yang bercanda soal bom di pesawat. \"Saya pikir suatu usulan yang baik ya, karena bom itu bukan candaan, bukan yang lucu. Jadi saya pikir, jika seseorang melakukan hal itu, patut untuk dilakukan blacklist ,\" ujar Budi di Terminal Penumpang Pelabuhan Tanjung Priok, Jakarta Utara, Kamis (31/5/2018). Menurut Budi, kekisruhan di dalam pesawat akibat candaan bom tidak perlu lagi terjadi. Candaan bom bukan candaan yang lucu. \"Karena kita tidak ingin ada suatu kekisruhan dalam pesawat dengan candaan yang nggak lucu, yang sebenarnya nggak penting,\" katanya. Budi mengimbau masyarakat agar tidak meniru candaan tersebut. Penumpang di mana pun harus tetap disiplin. \"Jadi saya pikir kita harus menghindari, harus disiplin supaya candaan nggak lucu tidak disampaikan,\" jelasnya. Sebelumnya, Frantinus Nirigi (26), yang bercanda membawa bom di pesawat Lion Air JT 687 rute Pontianak-Cengkareng, meminta maaf. Dia mengakui telah melontarkan candaan soal bom di dalam pesawat. Dia mengaku telah melihat video viral insiden tersebut dan meminta maaf kepada seluruh penumpang yang jadi korban luka. (nvl/nvl)\n",
      "case folding: jakarta menteri perhubungan budi karya sumadi setuju penumpang yang bercanda membawa bom di pesawat lion air jt rute pontianak cengkareng di blacklist hal tersebut agar tidak ada lagi penumpang yang bercanda soal bom di pesawat saya pikir suatu usulan yang baik ya karena bom itu bukan candaan bukan yang lucu jadi saya pikir jika seseorang melakukan hal itu patut untuk dilakukan blacklist ujar budi di terminal penumpang pelabuhan tanjung priok jakarta utara kamis menurut budi kekisruhan di dalam pesawat akibat candaan bom tidak perlu lagi terjadi candaan bom bukan candaan yang lucu karena kita tidak ingin ada suatu kekisruhan dalam pesawat dengan candaan yang nggak lucu yang sebenarnya nggak penting katanya budi mengimbau masyarakat agar tidak meniru candaan tersebut penumpang di mana pun harus tetap disiplin jadi saya pikir kita harus menghindari harus disiplin supaya candaan nggak lucu tidak disampaikan jelasnya sebelumnya frantinus nirigi yang bercanda membawa bom di pesawat lion air jt rute pontianak cengkareng meminta maaf dia mengakui telah melontarkan candaan soal bom di dalam pesawat dia mengaku telah melihat video viral insiden tersebut dan meminta maaf kepada seluruh penumpang yang jadi korban luka nvl nvl\n",
      "text normalize: jakarta menteri perhubungan budi karya sumadi setuju penumpang yang bercanda membawa bom di pesawat lion air jt rute pontianak cengkareng di blacklist hal tersebut agar tidak ada lagi penumpang yang bercanda soal bom di pesawat saya pikir suatu usulan yang baik ya karena bom itu bukan candaan bukan yang lucu jadi saya pikir jika seseorang melakukan hal itu patut untuk dilakukan blacklist ujar budi di terminal penumpang pelabuhan tanjung priok jakarta utara kamis menurut budi kekisruhan di dalam pesawat akibat candaan bom tidak perlu lagi terjadi candaan bom bukan candaan yang lucu karena kita tidak ingin ada suatu kekisruhan dalam pesawat dengan candaan yang tidak lucu yang sebenarnya tidak penting katanya budi mengimbau masyarakat agar tidak meniru candaan tersebut penumpang di mana pun harus tetap disiplin jadi saya pikir kita harus menghindari harus disiplin supaya candaan tidak lucu tidak disampaikan jelasnya sebelumnya frantinus nirigi yang bercanda membawa bom di pesawat lion air jt rute pontianak cengkareng meminta maaf dia mengakui telah melontarkan candaan soal bom di dalam pesawat dia mengaku telah melihat video viral insiden tersebut dan meminta maaf kepada seluruh penumpang yang jadi korban luka nvl nvl\n",
      "remove stopwords: jakarta menteri perhubungan budi karya sumadi setuju penumpang bercanda membawa bom pesawat lion air jt rute pontianak cengkareng blacklist penumpang bercanda bom pesawat pikir usulan ya bom candaan lucu pikir patut blacklist budi terminal penumpang pelabuhan tanjung priok jakarta utara kamis budi kekisruhan pesawat akibat candaan bom candaan bom candaan lucu kekisruhan pesawat candaan lucu budi mengimbau masyarakat meniru candaan penumpang disiplin pikir menghindari disiplin candaan lucu frantinus nirigi bercanda membawa bom pesawat lion air jt rute pontianak cengkareng maaf mengakui melontarkan candaan bom pesawat mengaku video viral insiden maaf penumpang korban luka\n",
      "stemming: jakarta menteri hubung budi karya sumadi tuju tumpang yang canda bawa bom di pesawat lion air jt rute pontianak cengkareng di blacklist hal sebut agar tidak ada lagi tumpang yang canda soal bom di pesawat saya pikir suatu usul yang baik ya karena bom itu bukan canda bukan yang lucu jadi saya pikir jika orang laku hal itu patut untuk laku blacklist ujar budi di terminal tumpang labuh tanjung priok jakarta utara kamis turut budi kisruh di dalam pesawat akibat canda bom tidak perlu lagi jadi canda bom bukan canda yang lucu karena kita tidak ingin ada suatu kisruh dalam pesawat dengan canda yang tidak lucu yang benar tidak penting kata budi imbau masyarakat agar tidak tiru canda sebut tumpang di mana pun harus tetap disiplin jadi saya pikir kita harus hindar harus disiplin supaya canda tidak lucu tidak sampai jelas belum frantinus nirigi yang canda bawa bom di pesawat lion air jt rute pontianak cengkareng minta maaf dia aku telah lontar canda soal bom di dalam pesawat dia aku telah lihat video viral insiden sebut dan minta maaf kepada seluruh tumpang yang jadi korban luka nvl nvl\n"
     ]
    }
   ],
   "source": [
    "raw_sample = df['content'].iloc[5]\n",
    "case_folding = case_folding(raw_sample)\n",
    "text_normalize = text_normalize(case_folding)\n",
    "remove_stopwords = remove_stopwords(text_normalize)\n",
    "stemming = stemming(remove_stopwords)\n",
    "\n",
    "print(f'raw sample: {raw_sample}')\n",
    "print(f'case folding: {case_folding}')\n",
    "print(f'text normalize: {text_normalize}')\n",
    "print(f'remove stopwords: {remove_stopwords}')\n",
    "print(f'stemming: {stemming}')\n"
   ]
  },
  {
   "cell_type": "markdown",
   "metadata": {},
   "source": [
    "### Text Preprocessing Pipeline"
   ]
  },
  {
   "cell_type": "code",
   "execution_count": 80,
   "metadata": {},
   "outputs": [],
   "source": [
    "def text_preprocessing_pipeline(text):\n",
    "    \"\"\"\n",
    "    param text: string\n",
    "    return: string\n",
    "\n",
    "    Apply text preprocessing pipeline\n",
    "    \"\"\"\n",
    "    text = case_folding(text)\n",
    "    text = text_normalize(text)\n",
    "    text = remove_stopwords(text)\n",
    "    text = stemming(text)\n",
    "    return text"
   ]
  },
  {
   "cell_type": "code",
   "execution_count": 81,
   "metadata": {},
   "outputs": [
    {
     "name": "stdout",
     "output_type": "stream",
     "text": [
      "CPU times: user 3min 12s, sys: 196 ms, total: 3min 12s\n",
      "Wall time: 3min 14s\n"
     ]
    }
   ],
   "source": [
    "%%time\n",
    "\n",
    "df['content_clean'] = df['content'].apply(text_preprocessing_pipeline)"
   ]
  },
  {
   "cell_type": "code",
   "execution_count": 82,
   "metadata": {},
   "outputs": [],
   "source": [
    "df.to_csv('data/data_clean.csv', index=False)"
   ]
  },
  {
   "cell_type": "code",
   "execution_count": 83,
   "metadata": {},
   "outputs": [
    {
     "data": {
      "text/html": [
       "<div>\n",
       "<style scoped>\n",
       "    .dataframe tbody tr th:only-of-type {\n",
       "        vertical-align: middle;\n",
       "    }\n",
       "\n",
       "    .dataframe tbody tr th {\n",
       "        vertical-align: top;\n",
       "    }\n",
       "\n",
       "    .dataframe thead th {\n",
       "        text-align: right;\n",
       "    }\n",
       "</style>\n",
       "<table border=\"1\" class=\"dataframe\">\n",
       "  <thead>\n",
       "    <tr style=\"text-align: right;\">\n",
       "      <th></th>\n",
       "      <th>url</th>\n",
       "      <th>date</th>\n",
       "      <th>title</th>\n",
       "      <th>content</th>\n",
       "      <th>content_clean</th>\n",
       "    </tr>\n",
       "  </thead>\n",
       "  <tbody>\n",
       "    <tr>\n",
       "      <th>0</th>\n",
       "      <td>https://news.detik.com/berita/d-4047915/soal-t...</td>\n",
       "      <td>2018-05-31 23:13:00</td>\n",
       "      <td>Soal THR untuk Anggota DPR, NasDem: Itu Normal</td>\n",
       "      <td>Jakarta -\\nPimpinan dan anggota DPR tahun ini ...</td>\n",
       "      <td>jakarta pimpin anggota dpr terima tunjang raya...</td>\n",
       "    </tr>\n",
       "    <tr>\n",
       "      <th>1</th>\n",
       "      <td>https://bola.kompas.com/read/2018/05/31/232609...</td>\n",
       "      <td>2018-05-31 23:26:00</td>\n",
       "      <td>Sempat Unggul, Timnas U-23 Indonesia Kalah dar...</td>\n",
       "      <td>KOMPAS.com - Timnas U-23 Indonesia harus menga...</td>\n",
       "      <td>kompas com tim nasional indonesia aku unggul t...</td>\n",
       "    </tr>\n",
       "    <tr>\n",
       "      <th>2</th>\n",
       "      <td>https://nasional.kompas.com/read/2018/05/31/23...</td>\n",
       "      <td>2018-05-31 23:32:00</td>\n",
       "      <td>Saat Oesman Sapta Candai Capres dan Cawapres d...</td>\n",
       "      <td>JAKARTA, KOMPAS.com - Ketua Dewan Pimpinan Dae...</td>\n",
       "      <td>jakarta kompas com ketua dewan pimpin daerah d...</td>\n",
       "    </tr>\n",
       "    <tr>\n",
       "      <th>3</th>\n",
       "      <td>https://international.sindonews.com/read/13106...</td>\n",
       "      <td>2018-05-31 23:47:00</td>\n",
       "      <td>Assad: Israel Panik Kehilangan Teroris Tersaya...</td>\n",
       "      <td>DAMASKUS - Presiden Bashar al-Assad menyebut I...</td>\n",
       "      <td>damaskus presiden bashar al assad sebut israel...</td>\n",
       "    </tr>\n",
       "    <tr>\n",
       "      <th>4</th>\n",
       "      <td>https://finance.detik.com/detiktv/d-4047895/du...</td>\n",
       "      <td>2018-05-31 23:07:00</td>\n",
       "      <td>Dua Minggu Jelang Lebaran, Pegadaian Dibanjiri...</td>\n",
       "      <td>Dua minggu jelang Lebaran, transaksi di PT Peg...</td>\n",
       "      <td>minggu jelang lebaran transaksi pt gadai perse...</td>\n",
       "    </tr>\n",
       "  </tbody>\n",
       "</table>\n",
       "</div>"
      ],
      "text/plain": [
       "                                                 url                 date  \\\n",
       "0  https://news.detik.com/berita/d-4047915/soal-t...  2018-05-31 23:13:00   \n",
       "1  https://bola.kompas.com/read/2018/05/31/232609...  2018-05-31 23:26:00   \n",
       "2  https://nasional.kompas.com/read/2018/05/31/23...  2018-05-31 23:32:00   \n",
       "3  https://international.sindonews.com/read/13106...  2018-05-31 23:47:00   \n",
       "4  https://finance.detik.com/detiktv/d-4047895/du...  2018-05-31 23:07:00   \n",
       "\n",
       "                                               title  \\\n",
       "0     Soal THR untuk Anggota DPR, NasDem: Itu Normal   \n",
       "1  Sempat Unggul, Timnas U-23 Indonesia Kalah dar...   \n",
       "2  Saat Oesman Sapta Candai Capres dan Cawapres d...   \n",
       "3  Assad: Israel Panik Kehilangan Teroris Tersaya...   \n",
       "4  Dua Minggu Jelang Lebaran, Pegadaian Dibanjiri...   \n",
       "\n",
       "                                             content  \\\n",
       "0  Jakarta -\\nPimpinan dan anggota DPR tahun ini ...   \n",
       "1  KOMPAS.com - Timnas U-23 Indonesia harus menga...   \n",
       "2  JAKARTA, KOMPAS.com - Ketua Dewan Pimpinan Dae...   \n",
       "3  DAMASKUS - Presiden Bashar al-Assad menyebut I...   \n",
       "4  Dua minggu jelang Lebaran, transaksi di PT Peg...   \n",
       "\n",
       "                                       content_clean  \n",
       "0  jakarta pimpin anggota dpr terima tunjang raya...  \n",
       "1  kompas com tim nasional indonesia aku unggul t...  \n",
       "2  jakarta kompas com ketua dewan pimpin daerah d...  \n",
       "3  damaskus presiden bashar al assad sebut israel...  \n",
       "4  minggu jelang lebaran transaksi pt gadai perse...  "
      ]
     },
     "execution_count": 83,
     "metadata": {},
     "output_type": "execute_result"
    }
   ],
   "source": [
    "df.head()"
   ]
  },
  {
   "cell_type": "code",
   "execution_count": null,
   "metadata": {},
   "outputs": [],
   "source": []
  }
 ],
 "metadata": {
  "kernelspec": {
   "display_name": "Python 3 (ipykernel)",
   "language": "python",
   "name": "python3"
  },
  "language_info": {
   "codemirror_mode": {
    "name": "ipython",
    "version": 3
   },
   "file_extension": ".py",
   "mimetype": "text/x-python",
   "name": "python",
   "nbconvert_exporter": "python",
   "pygments_lexer": "ipython3",
   "version": "3.10.8"
  },
  "orig_nbformat": 4
 },
 "nbformat": 4,
 "nbformat_minor": 2
}
